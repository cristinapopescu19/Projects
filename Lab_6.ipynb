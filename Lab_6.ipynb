{
  "nbformat": 4,
  "nbformat_minor": 0,
  "metadata": {
    "colab": {
      "provenance": [],
      "include_colab_link": true
    },
    "kernelspec": {
      "name": "python3",
      "display_name": "Python 3"
    },
    "language_info": {
      "name": "python"
    }
  },
  "cells": [
    {
      "cell_type": "markdown",
      "metadata": {
        "id": "view-in-github",
        "colab_type": "text"
      },
      "source": [
        "<a href=\"https://colab.research.google.com/github/cristinapopescu19/Projects/blob/AI/Lab_6.ipynb\" target=\"_parent\"><img src=\"https://colab.research.google.com/assets/colab-badge.svg\" alt=\"Open In Colab\"/></a>"
      ]
    },
    {
      "cell_type": "markdown",
      "source": [
        "### Notiuni preliminare"
      ],
      "metadata": {
        "id": "j9ZZF_dawHyi"
      }
    },
    {
      "cell_type": "markdown",
      "source": [
        "#### Functii recursive"
      ],
      "metadata": {
        "id": "-lB6saDH-Q7O"
      }
    },
    {
      "cell_type": "markdown",
      "source": [
        "Oricand aveti de definit o functie recursiva, ganditi-va la:\n",
        "\n",
        "- relatia recursiva cu apelul recurent\n",
        "- conditie de oprire!\n",
        "- parametrii apelului initial"
      ],
      "metadata": {
        "id": "_cHQIhVv-_yx"
      }
    },
    {
      "cell_type": "code",
      "source": [
        "# Suma numerelor pana la x:\n",
        "\n",
        "def f(x):\n",
        "  if x <= 0:    # Contitie de oprire\n",
        "    return 0\n",
        "  else:\n",
        "    return f(x-1) + x   # Relatie cu apelul recurent"
      ],
      "metadata": {
        "id": "UouE8RcG-S2s"
      },
      "execution_count": null,
      "outputs": []
    },
    {
      "cell_type": "code",
      "source": [
        "f(10)  # Parametrii apelului initial"
      ],
      "metadata": {
        "colab": {
          "base_uri": "https://localhost:8080/"
        },
        "id": "VyXdb6Yn-w8_",
        "outputId": "8efb9d6c-3eef-4dab-cb00-920b9c3e74b8"
      },
      "execution_count": null,
      "outputs": [
        {
          "output_type": "execute_result",
          "data": {
            "text/plain": [
              "55"
            ]
          },
          "metadata": {},
          "execution_count": 8
        }
      ]
    },
    {
      "cell_type": "code",
      "source": [
        "# Maximul dintr-o lista\n",
        "\n",
        "def maxim(l, i):\n",
        "  if i>=len(l)-1:    # Conditia de oprire\n",
        "    return l[len(l)-1]\n",
        "  maxim_restul = maxim(l, i+1)  # Relatia cu apelul recurent\n",
        "  if maxim_restul > l[i]:\n",
        "    return maxim_restul\n",
        "  else:\n",
        "    return l[i]"
      ],
      "metadata": {
        "id": "OwuKxIeqDxB1"
      },
      "execution_count": null,
      "outputs": []
    },
    {
      "cell_type": "code",
      "source": [
        "maxim([1, 2, 7, 3, 4], 0)   # Parametrii apelului initial (functia va merge recursiv prin fiecare pozitie in ordine crescatoare, pornesc de la pozitia 0)"
      ],
      "metadata": {
        "colab": {
          "base_uri": "https://localhost:8080/"
        },
        "id": "BhOTyyEVEJas",
        "outputId": "5cc3d0ea-0fb5-4be8-b475-444cb8f6bd8a"
      },
      "execution_count": null,
      "outputs": [
        {
          "output_type": "execute_result",
          "data": {
            "text/plain": [
              "7"
            ]
          },
          "metadata": {},
          "execution_count": 16
        }
      ]
    },
    {
      "cell_type": "markdown",
      "source": [
        "Input, programe interactive"
      ],
      "metadata": {
        "id": "u4fyRzRSscjL"
      }
    },
    {
      "cell_type": "code",
      "source": [
        "input(\"Scrieti ceva in casuta\")"
      ],
      "metadata": {
        "colab": {
          "base_uri": "https://localhost:8080/",
          "height": 53
        },
        "id": "qQddg5lDtjFi",
        "outputId": "cf17fb6a-576d-474b-9fc6-06f1a659eb05"
      },
      "execution_count": null,
      "outputs": [
        {
          "name": "stdout",
          "output_type": "stream",
          "text": [
            "Scrieti ceva in casutaceva\n"
          ]
        },
        {
          "output_type": "execute_result",
          "data": {
            "text/plain": [
              "'ceva'"
            ],
            "application/vnd.google.colaboratory.intrinsic+json": {
              "type": "string"
            }
          },
          "metadata": {},
          "execution_count": 1
        }
      ]
    },
    {
      "cell_type": "code",
      "source": [
        "x = input(\"Dati o valoare lui x \")\n",
        "print(int(x))"
      ],
      "metadata": {
        "colab": {
          "base_uri": "https://localhost:8080/"
        },
        "id": "bHNzLDgxtpql",
        "outputId": "296f6f4a-f558-47ad-a513-201e9b33ba5e"
      },
      "execution_count": null,
      "outputs": [
        {
          "output_type": "stream",
          "name": "stdout",
          "text": [
            "Dati o valoare lui x12\n",
            "12\n"
          ]
        }
      ]
    },
    {
      "cell_type": "code",
      "source": [
        "x = 0\n",
        "while(int(x) < 10):\n",
        "  x = input(\"Scrieti o valoare mai mare decat 10 \")\n"
      ],
      "metadata": {
        "colab": {
          "base_uri": "https://localhost:8080/"
        },
        "id": "P3slopamtxaW",
        "outputId": "97341159-2ef0-46cf-f788-d377eedde25e"
      },
      "execution_count": null,
      "outputs": [
        {
          "name": "stdout",
          "output_type": "stream",
          "text": [
            "Scrieti o valoare mai mare decat 10 4\n",
            "Scrieti o valoare mai mare decat 10 7\n",
            "Scrieti o valoare mai mare decat 10 11\n"
          ]
        }
      ]
    },
    {
      "cell_type": "markdown",
      "source": [
        "## Algoritmul MiniMax"
      ],
      "metadata": {
        "id": "GW5kVdBk2b-G"
      }
    },
    {
      "cell_type": "markdown",
      "source": [
        "Algoritm construire arbore de cautare"
      ],
      "metadata": {
        "id": "9B5T5sDf8Av1"
      }
    },
    {
      "cell_type": "markdown",
      "source": [
        "![arbore_minmax0_nocost.png](data:image/png;base64,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)"
      ],
      "metadata": {
        "id": "XEaLfg7c3GMV"
      }
    },
    {
      "cell_type": "code",
      "execution_count": null,
      "metadata": {
        "id": "5YBppd0_yTyo"
      },
      "outputs": [],
      "source": [
        "arbore_parinti = {\n",
        "    'A': 'J',\n",
        "    'B': 'J',\n",
        "    'C': 'J',\n",
        "    'D':'K',\n",
        "    'E':'K',\n",
        "    'F':'K',\n",
        "    'G':'L',\n",
        "    'H':'L',\n",
        "    'I':'L',\n",
        "    'J':'M',\n",
        "    'K':'M',\n",
        "    'L':'M',\n",
        "    }"
      ]
    },
    {
      "cell_type": "markdown",
      "source": [
        "Completati dictionarul de mai sus pentru a reprezenta structura arborelui."
      ],
      "metadata": {
        "id": "IZ3gBDrp3jsM"
      }
    },
    {
      "cell_type": "markdown",
      "source": [
        "![arbore_minmax0.png](data:image/png;base64,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)"
      ],
      "metadata": {
        "id": "B1v1oKXD4en-"
      }
    },
    {
      "cell_type": "code",
      "source": [
        "frunze = ['A', 'B', 'C', 'D', 'E', 'F', 'G', 'H', 'I']\n",
        "arbore_costuri = {\n",
        "    'A': 3,\n",
        "    'B': 12,\n",
        "    'C': 8,\n",
        "    'D': 2,\n",
        "    'E': 4,\n",
        "    'F': 6,\n",
        "    'G': 14,\n",
        "    'H':5,\n",
        "    'I':2,\n",
        "}"
      ],
      "metadata": {
        "id": "hct5bJAy8Hgw"
      },
      "execution_count": null,
      "outputs": []
    },
    {
      "cell_type": "markdown",
      "source": [
        "Completati arborele de mai sus cu costurile frunzelor."
      ],
      "metadata": {
        "id": "NIslV4YL67MJ"
      }
    },
    {
      "cell_type": "markdown",
      "source": [
        "Algoritm alfa-beta pruning (data viitoare)"
      ],
      "metadata": {
        "id": "J2uN0HNQ8FrW"
      }
    },
    {
      "cell_type": "markdown",
      "source": [
        "![arbore_minmax_alfabeta.png](data:image/png;base64,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)"
      ],
      "metadata": {
        "id": "rQBWVt7b4lEc"
      }
    },
    {
      "cell_type": "markdown",
      "source": [
        "    def max-value(stare, α, β):\n",
        "      initializeaza v = -∞\n",
        "      pentru fiecare succesor al stării:\n",
        "        v = max(v, value(successor, α, β))\n",
        "        if v ≥ β return v\n",
        "        α = max(α, v)\n",
        "      return v\n"
      ],
      "metadata": {
        "id": "VkxRUH2U7OIJ"
      }
    },
    {
      "cell_type": "markdown",
      "source": [
        "    def min-value(stare , α, β):\n",
        "      initializeaza v = +∞\n",
        "      pentru fiecare succesor al stării:\n",
        "        v = min(v, value(successor, α, β))\n",
        "        if v ≤ α return v\n",
        "        β = min(β, v)\n",
        "      return v\n"
      ],
      "metadata": {
        "id": "60fsMw2A7dg8"
      }
    },
    {
      "cell_type": "markdown",
      "source": [
        "# Exercitii (1p)"
      ],
      "metadata": {
        "id": "alXc4_xg2faG"
      }
    },
    {
      "cell_type": "markdown",
      "source": [
        "Definiti o functie recursiva care calculeaza elementul n din sirul Fibonacci.\n",
        "\n",
        "Sirul Fibonacci: 1 2 3 5 8 13 ..."
      ],
      "metadata": {
        "id": "wR72qgx-AGRC"
      }
    },
    {
      "cell_type": "code",
      "source": [
        "def fib(n):\n",
        "    if n<1:\n",
        "        return None\n",
        "    elif n==1 or n == 2:\n",
        "        return n\n",
        "    else:\n",
        "        s = fib(n-1)+fib(n-2)\n",
        "        if s!=0:\n",
        "           return s\n",
        "\n",
        "fib(5)"
      ],
      "metadata": {
        "id": "nU8RgkwZAKwY",
        "colab": {
          "base_uri": "https://localhost:8080/"
        },
        "outputId": "1c4f992d-7591-46c6-d77f-ff0b870137a2"
      },
      "execution_count": null,
      "outputs": [
        {
          "output_type": "execute_result",
          "data": {
            "text/plain": [
              "8"
            ]
          },
          "metadata": {},
          "execution_count": 1
        }
      ]
    },
    {
      "cell_type": "markdown",
      "source": [
        "Definiti o functie care primeste ca argument un arbore ca dictionar de parinti si returneaza o reprezentare a arborelui ca dictionar de fii."
      ],
      "metadata": {
        "id": "TD6GDlC6_dLv"
      }
    },
    {
      "cell_type": "code",
      "source": [
        "# Exemplu:\n",
        "\n",
        "arbore_parinti = {\n",
        "    2: 1,\n",
        "    3: 1,\n",
        "    4: 2,\n",
        "    5: 2,\n",
        "    6: 3,\n",
        "    7: 3,\n",
        "    1: None\n",
        "}\n",
        "\n",
        "arbore_fii = {\n",
        "    1: [2, 3],\n",
        "    2: [4, 5],\n",
        "    3: [6, 7],\n",
        "}\n",
        "\n",
        "def convert_arbore_fii(arbore_parinti):\n",
        "    arbore_fii = {}\n",
        "    for nod in arbore_parinti:\n",
        "        parinte = arbore_parinti[nod]\n",
        "        if parinte in arbore_fii:\n",
        "           arbore_fii[parinte].append(nod)\n",
        "           print(\"am adaugat nodul\", nod)\n",
        "        else:\n",
        "          print(\"am adaugat nodul\", nod)\n",
        "          arbore_fii[parinte]=[nod]\n",
        "    return arbore_fii"
      ],
      "metadata": {
        "id": "BD7qyTcM_jVJ"
      },
      "execution_count": null,
      "outputs": []
    },
    {
      "cell_type": "code",
      "source": [
        "convert_arbore_fii(arbore_parinti)"
      ],
      "metadata": {
        "id": "0ir1v_Qz_t3P",
        "colab": {
          "base_uri": "https://localhost:8080/"
        },
        "outputId": "f2fcbf73-7958-41ff-8a74-c8b5317dc863"
      },
      "execution_count": null,
      "outputs": [
        {
          "output_type": "stream",
          "name": "stdout",
          "text": [
            "am adaugat nodul 2\n",
            "am adaugat nodul 3\n",
            "am adaugat nodul 4\n",
            "am adaugat nodul 5\n",
            "am adaugat nodul 6\n",
            "am adaugat nodul 7\n",
            "am adaugat nodul 1\n"
          ]
        },
        {
          "output_type": "execute_result",
          "data": {
            "text/plain": [
              "{1: [2, 3], 2: [4, 5], 3: [6, 7], None: [1]}"
            ]
          },
          "metadata": {},
          "execution_count": 3
        }
      ]
    },
    {
      "cell_type": "markdown",
      "source": [
        "Definiti o functie care primeste ca argument un arbore ca dictionar de parinti, si radacina, cat si tipul radacinii / jucatorul corespunzator primei mutari (\"MIN\", sau \"MAX\"), si adauga pentru fiecare nod o valoare de tip string care marcheaza nivelurile alternative ca \"MIN\" sau \"MAX\".\n",
        "\n",
        "Hint: va puteti folosi de reprezentarea ca arbore de fii, folosind functia de mai sus.\n"
      ],
      "metadata": {
        "id": "_Kr6BKtz6mbz"
      }
    },
    {
      "cell_type": "code",
      "source": [
        "# Exemplu\n",
        "\n",
        "arbore_parinti = {\n",
        "    2: 1,\n",
        "    3: 1,\n",
        "    4: 2,\n",
        "    5: 2,\n",
        "    6: 3,\n",
        "    7: 3,\n",
        "    1: None\n",
        "}\n",
        "\n",
        "radacina = 1\n",
        "tip_radacina = 'max'\n",
        "\n",
        "def adauga_etichete_minmax(arbore, radacina, tip_radacina):\n",
        "    etichete = {}\n",
        "    eticheta_radacina = 'max' if tip_radacina == 'max' else 'min'\n",
        "    etichete[radacina] = {'parinte': None, 'eticheta': eticheta_radacina}\n",
        "    coada = [radacina]\n",
        "    while coada:\n",
        "        nod = coada.pop(0)\n",
        "        eticheta_nod = etichete[nod]['eticheta']\n",
        "        for fiu in arbore:\n",
        "            if arbore[fiu] == nod and fiu not in etichete:\n",
        "                eticheta_fiu = 'min' if eticheta_nod == 'max' else 'max'\n",
        "                etichete[fiu] = {'parinte': nod, 'eticheta': eticheta_fiu}\n",
        "                coada.append(fiu)\n",
        "    return etichete\n",
        "etichete = adauga_etichete_minmax(arbore_parinti, radacina, tip_radacina)\n",
        "for nod, eticheta in etichete.items():\n",
        "    print(nod, eticheta['parinte'], eticheta['eticheta'])"
      ],
      "metadata": {
        "id": "BvyiksOT63T1",
        "colab": {
          "base_uri": "https://localhost:8080/"
        },
        "outputId": "0f74cf51-f507-4883-9707-2525a39f72a7"
      },
      "execution_count": null,
      "outputs": [
        {
          "output_type": "stream",
          "name": "stdout",
          "text": [
            "1 None max\n",
            "2 1 min\n",
            "3 1 min\n",
            "4 2 max\n",
            "5 2 max\n",
            "6 3 max\n",
            "7 3 max\n"
          ]
        }
      ]
    },
    {
      "cell_type": "markdown",
      "source": [
        "Definiti o functie recursiva care primeste ca arument un arbore definit ca dictionar de fii, si returneaza adancimea maxima a arborelui.\n",
        "\n",
        "Hint: adancime(arbore, nod) = adancime(arbore, fiu_nod) + 1, daca nodul are fii (altfel nu se adauga 1 si se opreste recursivitatea). Observatie: aceasta functie va executa practic o cautare in adancime (DFS) modificata (plus calculul adancimii)."
      ],
      "metadata": {
        "id": "iv02Y-1uBoc1"
      }
    },
    {
      "cell_type": "code",
      "source": [
        "def adancime_rec(arbore_fii, nod):\n",
        "    if nod not in arbore_fii:\n",
        "        return 0\n",
        "    else:\n",
        "        adancime_max_fii = 0\n",
        "        for fiu in arbore_fii[nod]:\n",
        "            adancime_fiu = adancime_rec(arbore_fii, fiu)\n",
        "            adancime_max_fii = max(adancime_max_fii, adancime_fiu)\n",
        "        return adancime_max_fii + 1"
      ],
      "metadata": {
        "id": "B-ZX7obIBwCQ"
      },
      "execution_count": null,
      "outputs": []
    },
    {
      "cell_type": "code",
      "source": [
        "radacina = 1\n",
        "# Pentru a apela functia pe un arbore dat, trebuie apelata ca\n",
        "adancime_rec(arbore_fii, radacina)"
      ],
      "metadata": {
        "id": "62VwY4pECFB9",
        "colab": {
          "base_uri": "https://localhost:8080/"
        },
        "outputId": "8923e3b3-6d5b-4c1a-cf10-615f58c7c1f0"
      },
      "execution_count": null,
      "outputs": [
        {
          "output_type": "execute_result",
          "data": {
            "text/plain": [
              "2"
            ]
          },
          "metadata": {},
          "execution_count": 6
        }
      ]
    },
    {
      "cell_type": "markdown",
      "source": [
        "Calculati adancimea maxima a arborelui folosindu-va de o functie recursiva care primeste ca arument un arbore definit ca dictionar de parinti, si returneaza adancimea.\n",
        "\n",
        "Hint: adancime(arbore, nod) = adancime(arbore, parinte_nod) + 1, daca nodul nu este radacina (altfel nu se adauga 1 si se opreste recursivitatea)"
      ],
      "metadata": {
        "id": "YdXJwbqNCnse"
      }
    },
    {
      "cell_type": "code",
      "source": [
        "# Pentru a apela functia avem nevoie sa pornim de la fiecare frunza\n",
        "# si sa alegem maximul rezultatelor pentru fiecare frunza.\n",
        "def adancime_rec2(arbore_fii, nod):\n",
        "    if nod not in arbore_parinti:\n",
        "        return 0\n",
        "    parinte = arbore_parinti[nod]\n",
        "    if parinte is None:  # daca nodul este radacina\n",
        "        return 0\n",
        "    return adancime_rec2(arbore_parinti, parinte) + 1\n",
        "\n",
        "frunze = [4, 5, 6, 7]\n",
        "for f in frunze:\n",
        "  adancime_max = 0\n",
        "  adancime = adancime_rec2(arbore_fii, f)\n",
        "  if adancime > adancime_max:\n",
        "    adancime_max = adancime\n",
        "print(\"Adancimea maxima gasita:\", adancime_max)"
      ],
      "metadata": {
        "id": "52aYb8CFCw15",
        "colab": {
          "base_uri": "https://localhost:8080/"
        },
        "outputId": "dc6b8a4a-0a92-49a0-b5b2-d763ac3cb903"
      },
      "execution_count": null,
      "outputs": [
        {
          "output_type": "stream",
          "name": "stdout",
          "text": [
            "Adancimea maxima gasita: 2\n"
          ]
        }
      ]
    },
    {
      "cell_type": "markdown",
      "source": [
        "### MiniMax\n",
        "\n",
        "Definiti o functie recursiva care primeste ca argument un arbore definit prin doua dictionare: dictionar de parinti plus dictionar de costuri, unde doar frunzele au costurile completate, si completati dictionarul de costuri astfel incat sa calculeze costuri pentru toate nodurile din arbore, conform algoritmului MiniMax, si returneaza arborele de costuri completat. Se presupune ca toate frunzele au acelasi nivel, si ca primul jucator (radacina) este \"max\".\n"
      ],
      "metadata": {
        "id": "RIxjJT867Z_8"
      }
    },
    {
      "cell_type": "markdown",
      "source": [
        "Hints:"
      ],
      "metadata": {
        "id": "w205EH4Hyz92"
      }
    },
    {
      "cell_type": "code",
      "source": [
        "# Reprezentarea valorii infinit\n",
        "import numpy as np\n",
        "print(\"Infinit:\", np.inf)\n",
        "print(\"Infinit comparatie\", 100000000 > np.inf)\n",
        "print(\"Minus infinit:\", -np.inf)\n",
        "print(\"Minus infinit comparatie\", -100000000 < np.inf)\n"
      ],
      "metadata": {
        "colab": {
          "base_uri": "https://localhost:8080/"
        },
        "id": "tHiAv8iHy7bU",
        "outputId": "a9e5a9e8-c79e-437b-8751-b3f8df671152"
      },
      "execution_count": null,
      "outputs": [
        {
          "output_type": "stream",
          "name": "stdout",
          "text": [
            "Infinit: inf\n",
            "Infinit comparatie False\n",
            "Minus infinit: -inf\n",
            "Minus infinit comparatie True\n"
          ]
        }
      ]
    },
    {
      "cell_type": "code",
      "source": [
        "# Functie predefinita pentru maximul/minimul dintre o serie de valori\n",
        "print(max(1,2,3))\n",
        "print(max([1,2,3]))\n",
        "print(min(13,-np.inf))"
      ],
      "metadata": {
        "colab": {
          "base_uri": "https://localhost:8080/"
        },
        "id": "KnNIK3tozQ2-",
        "outputId": "c1c57f3b-e0fd-4d30-c65d-8a7e38599299"
      },
      "execution_count": null,
      "outputs": [
        {
          "output_type": "stream",
          "name": "stdout",
          "text": [
            "3\n",
            "3\n",
            "-inf\n"
          ]
        }
      ]
    },
    {
      "cell_type": "code",
      "source": [
        "\n",
        "arbore_parinti = {\n",
        "'A': None,\n",
        "'B': 'A',\n",
        "'C': 'A',\n",
        "'D': 'A',\n",
        "'E': 'B',\n",
        "'F': 'B',\n",
        "'G': 'D',\n",
        "'H': 'D',\n",
        "'I': 'G'\n",
        "}\n",
        "arbore_costuri = {\n",
        "    'A': 3,\n",
        "    'B': 12,\n",
        "    'C': 8,\n",
        "    'D': 2,\n",
        "    'E': 4,\n",
        "    'F': 6,\n",
        "    'G': 14,\n",
        "    'H':5,\n",
        "    'I':2,\n",
        "}\n",
        "def minimax(arbore_parinti, arbore_costuri, player_radacina):\n",
        "    def calculeaza_minimax(nod, player): #Funcția recursivă pentru calcularea valorilor MiniMax pentru fiecare nod\n",
        "        if nod in frunze:\n",
        "            return arbore_costuri[nod]\n",
        "        elif player == player_radacina: # Dacă jucătorul este cel pentru care se calculează max, se calculează max dintre toți fii nodului curent\n",
        "            valoare_maxima = -np.inf\n",
        "            for fiu in arbore_parinti:\n",
        "                if arbore_parinti[fiu] == nod:\n",
        "                    valoare_fiu = calculeaza_minimax(fiu, player=False)\n",
        "                    valoare_maxima = max(valoare_maxima, valoare_fiu)\n",
        "            return valoare_maxima\n",
        "        else: # Altfel, se calculează min dintre toți fii nodului curent\n",
        "            valoare_minima = np.inf\n",
        "            for fiu in arbore_parinti:\n",
        "                if arbore_parinti[fiu] == nod:\n",
        "                    valoare_fiu = calculeaza_minimax(fiu, player=True)\n",
        "                    valoare_minima = min(valoare_minima, valoare_fiu)\n",
        "            return valoare_minima\n",
        "    frunze = [nod for nod in arbore_parinti if not arbore_parinti[nod]]\n",
        "    for nod in arbore_parinti:\n",
        "        arbore_costuri[nod] = calculeaza_minimax(nod, player=True)\n",
        "    return arbore_costuri\n"
      ],
      "metadata": {
        "id": "zDWisI0g7xiz"
      },
      "execution_count": null,
      "outputs": []
    },
    {
      "cell_type": "markdown",
      "source": [
        "Evaluati (apelati) functia pe arborele corespunzator desenului de mai sus."
      ],
      "metadata": {
        "id": "3cJXtdV783zu"
      }
    },
    {
      "cell_type": "code",
      "source": [
        "minimax(arbore_parinti, arbore_costuri, \"max\")"
      ],
      "metadata": {
        "id": "PgtHinYV882i",
        "colab": {
          "base_uri": "https://localhost:8080/"
        },
        "outputId": "e4a032c5-9a83-475f-c975-1880714a2eec"
      },
      "execution_count": null,
      "outputs": [
        {
          "output_type": "execute_result",
          "data": {
            "text/plain": [
              "{'A': 3,\n",
              " 'B': inf,\n",
              " 'C': inf,\n",
              " 'D': inf,\n",
              " 'E': inf,\n",
              " 'F': inf,\n",
              " 'G': inf,\n",
              " 'H': inf,\n",
              " 'I': inf}"
            ]
          },
          "metadata": {},
          "execution_count": 11
        }
      ]
    }
  ]
}