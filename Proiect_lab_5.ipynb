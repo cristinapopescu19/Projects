{
  "nbformat": 4,
  "nbformat_minor": 0,
  "metadata": {
    "colab": {
      "provenance": [],
      "include_colab_link": true
    },
    "kernelspec": {
      "name": "python3",
      "display_name": "Python 3"
    },
    "language_info": {
      "name": "python"
    },
    "widgets": {
      "application/vnd.jupyter.widget-state+json": {
        "7f6285e7d23342a88b3b95ebd61b63be": {
          "model_module": "@jupyter-widgets/controls",
          "model_name": "HTMLModel",
          "model_module_version": "1.5.0",
          "state": {
            "_dom_classes": [],
            "_model_module": "@jupyter-widgets/controls",
            "_model_module_version": "1.5.0",
            "_model_name": "HTMLModel",
            "_view_count": null,
            "_view_module": "@jupyter-widgets/controls",
            "_view_module_version": "1.5.0",
            "_view_name": "HTMLView",
            "description": "",
            "description_tooltip": null,
            "layout": "IPY_MODEL_743d41da3d854bddb458dadc07e14fba",
            "placeholder": "​",
            "style": "IPY_MODEL_738792db5c7d4a58b86bebf8c951040f",
            "value": "\n        <table style=\"border-collapse: collapse; border: 2px solid black; margin: auto;\">\n            <tr>\n                <td style=\"width: 50px; height: 50px; text-align: center; background-color: #404040;\">1</td>\n                <td style=\"width: 50px; height: 50px; text-align: center; background-color: #737373;\">3</td>\n                <td style=\"width: 50px; height: 50px; text-align: center; background-color: #595959;\">2</td>\n            </tr>\n            <tr>\n                <td style=\"width: 50px; height: 50px; text-align: center; background-color: #8c8c8c;\">4</td>\n                <td style=\"width: 50px; height: 50px; text-align: center; background-color: #a6a6a6;\">5</td>\n                <td style=\"width: 50px; height: 50px; text-align: center; background-color: #bfbfbf;\">6</td>\n            </tr>\n            <tr>\n                <td style=\"width: 50px; height: 50px; text-align: center; background-color: #f2f2f2;\">8</td>\n                <td style=\"width: 50px; height: 50px; text-align: center; background-color: #d9d9d9;\">7</td>\n                <td style=\"width: 50px; height: 50px; text-align: center; background-color: ;\">0</td>\n            </tr>\n        </table>\n        "
          }
        },
        "743d41da3d854bddb458dadc07e14fba": {
          "model_module": "@jupyter-widgets/base",
          "model_name": "LayoutModel",
          "model_module_version": "1.2.0",
          "state": {
            "_model_module": "@jupyter-widgets/base",
            "_model_module_version": "1.2.0",
            "_model_name": "LayoutModel",
            "_view_count": null,
            "_view_module": "@jupyter-widgets/base",
            "_view_module_version": "1.2.0",
            "_view_name": "LayoutView",
            "align_content": null,
            "align_items": null,
            "align_self": null,
            "border": null,
            "bottom": null,
            "display": null,
            "flex": null,
            "flex_flow": null,
            "grid_area": null,
            "grid_auto_columns": null,
            "grid_auto_flow": null,
            "grid_auto_rows": null,
            "grid_column": null,
            "grid_gap": null,
            "grid_row": null,
            "grid_template_areas": null,
            "grid_template_columns": null,
            "grid_template_rows": null,
            "height": null,
            "justify_content": null,
            "justify_items": null,
            "left": null,
            "margin": null,
            "max_height": null,
            "max_width": null,
            "min_height": null,
            "min_width": null,
            "object_fit": null,
            "object_position": null,
            "order": null,
            "overflow": null,
            "overflow_x": null,
            "overflow_y": null,
            "padding": null,
            "right": null,
            "top": null,
            "visibility": null,
            "width": null
          }
        },
        "738792db5c7d4a58b86bebf8c951040f": {
          "model_module": "@jupyter-widgets/controls",
          "model_name": "DescriptionStyleModel",
          "model_module_version": "1.5.0",
          "state": {
            "_model_module": "@jupyter-widgets/controls",
            "_model_module_version": "1.5.0",
            "_model_name": "DescriptionStyleModel",
            "_view_count": null,
            "_view_module": "@jupyter-widgets/base",
            "_view_module_version": "1.2.0",
            "_view_name": "StyleView",
            "description_width": ""
          }
        },
        "4ff54c95e6a845beb21cc509d548f28b": {
          "model_module": "@jupyter-widgets/controls",
          "model_name": "HTMLModel",
          "model_module_version": "1.5.0",
          "state": {
            "_dom_classes": [],
            "_model_module": "@jupyter-widgets/controls",
            "_model_module_version": "1.5.0",
            "_model_name": "HTMLModel",
            "_view_count": null,
            "_view_module": "@jupyter-widgets/controls",
            "_view_module_version": "1.5.0",
            "_view_name": "HTMLView",
            "description": "",
            "description_tooltip": null,
            "layout": "IPY_MODEL_5a5d36f09451423299f25bba21385756",
            "placeholder": "​",
            "style": "IPY_MODEL_2b4bd92e24f04e7a9c8e7b8298049ead",
            "value": "\n        <table style=\"border-collapse: collapse; border: 2px solid black; margin: auto;\">\n            <tr>\n                <td style=\"width: 50px; height: 50px; text-align: center; background-color: #404040;\">1</td>\n                <td style=\"width: 50px; height: 50px; text-align: center; background-color: #737373;\">3</td>\n                <td style=\"width: 50px; height: 50px; text-align: center; background-color: #595959;\">2</td>\n            </tr>\n            <tr>\n                <td style=\"width: 50px; height: 50px; text-align: center; background-color: #8c8c8c;\">4</td>\n                <td style=\"width: 50px; height: 50px; text-align: center; background-color: #a6a6a6;\">5</td>\n                <td style=\"width: 50px; height: 50px; text-align: center; background-color: ;\">0</td>\n            </tr>\n            <tr>\n                <td style=\"width: 50px; height: 50px; text-align: center; background-color: #f2f2f2;\">8</td>\n                <td style=\"width: 50px; height: 50px; text-align: center; background-color: #d9d9d9;\">7</td>\n                <td style=\"width: 50px; height: 50px; text-align: center; background-color: #bfbfbf;\">6</td>\n            </tr>\n        </table>\n        "
          }
        },
        "5a5d36f09451423299f25bba21385756": {
          "model_module": "@jupyter-widgets/base",
          "model_name": "LayoutModel",
          "model_module_version": "1.2.0",
          "state": {
            "_model_module": "@jupyter-widgets/base",
            "_model_module_version": "1.2.0",
            "_model_name": "LayoutModel",
            "_view_count": null,
            "_view_module": "@jupyter-widgets/base",
            "_view_module_version": "1.2.0",
            "_view_name": "LayoutView",
            "align_content": null,
            "align_items": null,
            "align_self": null,
            "border": null,
            "bottom": null,
            "display": null,
            "flex": null,
            "flex_flow": null,
            "grid_area": null,
            "grid_auto_columns": null,
            "grid_auto_flow": null,
            "grid_auto_rows": null,
            "grid_column": null,
            "grid_gap": null,
            "grid_row": null,
            "grid_template_areas": null,
            "grid_template_columns": null,
            "grid_template_rows": null,
            "height": null,
            "justify_content": null,
            "justify_items": null,
            "left": null,
            "margin": null,
            "max_height": null,
            "max_width": null,
            "min_height": null,
            "min_width": null,
            "object_fit": null,
            "object_position": null,
            "order": null,
            "overflow": null,
            "overflow_x": null,
            "overflow_y": null,
            "padding": null,
            "right": null,
            "top": null,
            "visibility": null,
            "width": null
          }
        },
        "2b4bd92e24f04e7a9c8e7b8298049ead": {
          "model_module": "@jupyter-widgets/controls",
          "model_name": "DescriptionStyleModel",
          "model_module_version": "1.5.0",
          "state": {
            "_model_module": "@jupyter-widgets/controls",
            "_model_module_version": "1.5.0",
            "_model_name": "DescriptionStyleModel",
            "_view_count": null,
            "_view_module": "@jupyter-widgets/base",
            "_view_module_version": "1.2.0",
            "_view_name": "StyleView",
            "description_width": ""
          }
        },
        "b664875a63554a4189d7a47fe2d9115f": {
          "model_module": "@jupyter-widgets/controls",
          "model_name": "HTMLModel",
          "model_module_version": "1.5.0",
          "state": {
            "_dom_classes": [],
            "_model_module": "@jupyter-widgets/controls",
            "_model_module_version": "1.5.0",
            "_model_name": "HTMLModel",
            "_view_count": null,
            "_view_module": "@jupyter-widgets/controls",
            "_view_module_version": "1.5.0",
            "_view_name": "HTMLView",
            "description": "",
            "description_tooltip": null,
            "layout": "IPY_MODEL_1b9dae36e120446b8b4da74beef392e0",
            "placeholder": "​",
            "style": "IPY_MODEL_b3ee024c0cde4ce49fefbc9e3d1ed1e3",
            "value": "\n        <table style=\"border-collapse: collapse; border: 2px solid black; margin: auto;\">\n            <tr>\n                <td style=\"width: 50px; height: 50px; text-align: center; background-color: #404040;\">1</td>\n                <td style=\"width: 50px; height: 50px; text-align: center; background-color: #737373;\">3</td>\n                <td style=\"width: 50px; height: 50px; text-align: center; background-color: ;\">0</td>\n            </tr>\n            <tr>\n                <td style=\"width: 50px; height: 50px; text-align: center; background-color: #8c8c8c;\">4</td>\n                <td style=\"width: 50px; height: 50px; text-align: center; background-color: #a6a6a6;\">5</td>\n                <td style=\"width: 50px; height: 50px; text-align: center; background-color: #595959;\">2</td>\n            </tr>\n            <tr>\n                <td style=\"width: 50px; height: 50px; text-align: center; background-color: #f2f2f2;\">8</td>\n                <td style=\"width: 50px; height: 50px; text-align: center; background-color: #d9d9d9;\">7</td>\n                <td style=\"width: 50px; height: 50px; text-align: center; background-color: #bfbfbf;\">6</td>\n            </tr>\n        </table>\n        "
          }
        },
        "1b9dae36e120446b8b4da74beef392e0": {
          "model_module": "@jupyter-widgets/base",
          "model_name": "LayoutModel",
          "model_module_version": "1.2.0",
          "state": {
            "_model_module": "@jupyter-widgets/base",
            "_model_module_version": "1.2.0",
            "_model_name": "LayoutModel",
            "_view_count": null,
            "_view_module": "@jupyter-widgets/base",
            "_view_module_version": "1.2.0",
            "_view_name": "LayoutView",
            "align_content": null,
            "align_items": null,
            "align_self": null,
            "border": null,
            "bottom": null,
            "display": null,
            "flex": null,
            "flex_flow": null,
            "grid_area": null,
            "grid_auto_columns": null,
            "grid_auto_flow": null,
            "grid_auto_rows": null,
            "grid_column": null,
            "grid_gap": null,
            "grid_row": null,
            "grid_template_areas": null,
            "grid_template_columns": null,
            "grid_template_rows": null,
            "height": null,
            "justify_content": null,
            "justify_items": null,
            "left": null,
            "margin": null,
            "max_height": null,
            "max_width": null,
            "min_height": null,
            "min_width": null,
            "object_fit": null,
            "object_position": null,
            "order": null,
            "overflow": null,
            "overflow_x": null,
            "overflow_y": null,
            "padding": null,
            "right": null,
            "top": null,
            "visibility": null,
            "width": null
          }
        },
        "b3ee024c0cde4ce49fefbc9e3d1ed1e3": {
          "model_module": "@jupyter-widgets/controls",
          "model_name": "DescriptionStyleModel",
          "model_module_version": "1.5.0",
          "state": {
            "_model_module": "@jupyter-widgets/controls",
            "_model_module_version": "1.5.0",
            "_model_name": "DescriptionStyleModel",
            "_view_count": null,
            "_view_module": "@jupyter-widgets/base",
            "_view_module_version": "1.2.0",
            "_view_name": "StyleView",
            "description_width": ""
          }
        },
        "0c0f640a316e4631a0cb8cff59959130": {
          "model_module": "@jupyter-widgets/controls",
          "model_name": "HTMLModel",
          "model_module_version": "1.5.0",
          "state": {
            "_dom_classes": [],
            "_model_module": "@jupyter-widgets/controls",
            "_model_module_version": "1.5.0",
            "_model_name": "HTMLModel",
            "_view_count": null,
            "_view_module": "@jupyter-widgets/controls",
            "_view_module_version": "1.5.0",
            "_view_name": "HTMLView",
            "description": "",
            "description_tooltip": null,
            "layout": "IPY_MODEL_f697f1b271d0479fa5c7401044b67498",
            "placeholder": "​",
            "style": "IPY_MODEL_6e41d5a13cef420a9d3757ec1884f476",
            "value": "\n        <table style=\"border-collapse: collapse; border: 2px solid black; margin: auto;\">\n            <tr>\n                <td style=\"width: 50px; height: 50px; text-align: center; background-color: #404040;\">1</td>\n                <td style=\"width: 50px; height: 50px; text-align: center; background-color: ;\">0</td>\n                <td style=\"width: 50px; height: 50px; text-align: center; background-color: #737373;\">3</td>\n            </tr>\n            <tr>\n                <td style=\"width: 50px; height: 50px; text-align: center; background-color: #8c8c8c;\">4</td>\n                <td style=\"width: 50px; height: 50px; text-align: center; background-color: #a6a6a6;\">5</td>\n                <td style=\"width: 50px; height: 50px; text-align: center; background-color: #595959;\">2</td>\n            </tr>\n            <tr>\n                <td style=\"width: 50px; height: 50px; text-align: center; background-color: #f2f2f2;\">8</td>\n                <td style=\"width: 50px; height: 50px; text-align: center; background-color: #d9d9d9;\">7</td>\n                <td style=\"width: 50px; height: 50px; text-align: center; background-color: #bfbfbf;\">6</td>\n            </tr>\n        </table>\n        "
          }
        },
        "f697f1b271d0479fa5c7401044b67498": {
          "model_module": "@jupyter-widgets/base",
          "model_name": "LayoutModel",
          "model_module_version": "1.2.0",
          "state": {
            "_model_module": "@jupyter-widgets/base",
            "_model_module_version": "1.2.0",
            "_model_name": "LayoutModel",
            "_view_count": null,
            "_view_module": "@jupyter-widgets/base",
            "_view_module_version": "1.2.0",
            "_view_name": "LayoutView",
            "align_content": null,
            "align_items": null,
            "align_self": null,
            "border": null,
            "bottom": null,
            "display": null,
            "flex": null,
            "flex_flow": null,
            "grid_area": null,
            "grid_auto_columns": null,
            "grid_auto_flow": null,
            "grid_auto_rows": null,
            "grid_column": null,
            "grid_gap": null,
            "grid_row": null,
            "grid_template_areas": null,
            "grid_template_columns": null,
            "grid_template_rows": null,
            "height": null,
            "justify_content": null,
            "justify_items": null,
            "left": null,
            "margin": null,
            "max_height": null,
            "max_width": null,
            "min_height": null,
            "min_width": null,
            "object_fit": null,
            "object_position": null,
            "order": null,
            "overflow": null,
            "overflow_x": null,
            "overflow_y": null,
            "padding": null,
            "right": null,
            "top": null,
            "visibility": null,
            "width": null
          }
        },
        "6e41d5a13cef420a9d3757ec1884f476": {
          "model_module": "@jupyter-widgets/controls",
          "model_name": "DescriptionStyleModel",
          "model_module_version": "1.5.0",
          "state": {
            "_model_module": "@jupyter-widgets/controls",
            "_model_module_version": "1.5.0",
            "_model_name": "DescriptionStyleModel",
            "_view_count": null,
            "_view_module": "@jupyter-widgets/base",
            "_view_module_version": "1.2.0",
            "_view_name": "StyleView",
            "description_width": ""
          }
        },
        "bdbf06bda9e247c3be2485bfbc95dde4": {
          "model_module": "@jupyter-widgets/controls",
          "model_name": "HTMLModel",
          "model_module_version": "1.5.0",
          "state": {
            "_dom_classes": [],
            "_model_module": "@jupyter-widgets/controls",
            "_model_module_version": "1.5.0",
            "_model_name": "HTMLModel",
            "_view_count": null,
            "_view_module": "@jupyter-widgets/controls",
            "_view_module_version": "1.5.0",
            "_view_name": "HTMLView",
            "description": "",
            "description_tooltip": null,
            "layout": "IPY_MODEL_f7d94002478346b08427fc3c72647a96",
            "placeholder": "​",
            "style": "IPY_MODEL_aa2e3e57b535487e9599327802a94546",
            "value": "\n        <table style=\"border-collapse: collapse; border: 2px solid black; margin: auto;\">\n            <tr>\n                <td style=\"width: 50px; height: 50px; text-align: center; background-color: ;\">0</td>\n                <td style=\"width: 50px; height: 50px; text-align: center; background-color: #404040;\">1</td>\n                <td style=\"width: 50px; height: 50px; text-align: center; background-color: #737373;\">3</td>\n            </tr>\n            <tr>\n                <td style=\"width: 50px; height: 50px; text-align: center; background-color: #8c8c8c;\">4</td>\n                <td style=\"width: 50px; height: 50px; text-align: center; background-color: #a6a6a6;\">5</td>\n                <td style=\"width: 50px; height: 50px; text-align: center; background-color: #595959;\">2</td>\n            </tr>\n            <tr>\n                <td style=\"width: 50px; height: 50px; text-align: center; background-color: #f2f2f2;\">8</td>\n                <td style=\"width: 50px; height: 50px; text-align: center; background-color: #d9d9d9;\">7</td>\n                <td style=\"width: 50px; height: 50px; text-align: center; background-color: #bfbfbf;\">6</td>\n            </tr>\n        </table>\n        "
          }
        },
        "f7d94002478346b08427fc3c72647a96": {
          "model_module": "@jupyter-widgets/base",
          "model_name": "LayoutModel",
          "model_module_version": "1.2.0",
          "state": {
            "_model_module": "@jupyter-widgets/base",
            "_model_module_version": "1.2.0",
            "_model_name": "LayoutModel",
            "_view_count": null,
            "_view_module": "@jupyter-widgets/base",
            "_view_module_version": "1.2.0",
            "_view_name": "LayoutView",
            "align_content": null,
            "align_items": null,
            "align_self": null,
            "border": null,
            "bottom": null,
            "display": null,
            "flex": null,
            "flex_flow": null,
            "grid_area": null,
            "grid_auto_columns": null,
            "grid_auto_flow": null,
            "grid_auto_rows": null,
            "grid_column": null,
            "grid_gap": null,
            "grid_row": null,
            "grid_template_areas": null,
            "grid_template_columns": null,
            "grid_template_rows": null,
            "height": null,
            "justify_content": null,
            "justify_items": null,
            "left": null,
            "margin": null,
            "max_height": null,
            "max_width": null,
            "min_height": null,
            "min_width": null,
            "object_fit": null,
            "object_position": null,
            "order": null,
            "overflow": null,
            "overflow_x": null,
            "overflow_y": null,
            "padding": null,
            "right": null,
            "top": null,
            "visibility": null,
            "width": null
          }
        },
        "aa2e3e57b535487e9599327802a94546": {
          "model_module": "@jupyter-widgets/controls",
          "model_name": "DescriptionStyleModel",
          "model_module_version": "1.5.0",
          "state": {
            "_model_module": "@jupyter-widgets/controls",
            "_model_module_version": "1.5.0",
            "_model_name": "DescriptionStyleModel",
            "_view_count": null,
            "_view_module": "@jupyter-widgets/base",
            "_view_module_version": "1.2.0",
            "_view_name": "StyleView",
            "description_width": ""
          }
        },
        "03c3a909a28b409fa0c9ed7da879b048": {
          "model_module": "@jupyter-widgets/controls",
          "model_name": "HTMLModel",
          "model_module_version": "1.5.0",
          "state": {
            "_dom_classes": [],
            "_model_module": "@jupyter-widgets/controls",
            "_model_module_version": "1.5.0",
            "_model_name": "HTMLModel",
            "_view_count": null,
            "_view_module": "@jupyter-widgets/controls",
            "_view_module_version": "1.5.0",
            "_view_name": "HTMLView",
            "description": "",
            "description_tooltip": null,
            "layout": "IPY_MODEL_63ac3dd961b249aa807bbeb961487b89",
            "placeholder": "​",
            "style": "IPY_MODEL_fbc5fe35c626434898fd1ef67c47e1e5",
            "value": "\n        <table style=\"border-collapse: collapse; border: 2px solid black; margin: auto;\">\n            <tr>\n                <td style=\"width: 50px; height: 50px; text-align: center; background-color: #8c8c8c;\">4</td>\n                <td style=\"width: 50px; height: 50px; text-align: center; background-color: #404040;\">1</td>\n                <td style=\"width: 50px; height: 50px; text-align: center; background-color: #737373;\">3</td>\n            </tr>\n            <tr>\n                <td style=\"width: 50px; height: 50px; text-align: center; background-color: ;\">0</td>\n                <td style=\"width: 50px; height: 50px; text-align: center; background-color: #a6a6a6;\">5</td>\n                <td style=\"width: 50px; height: 50px; text-align: center; background-color: #595959;\">2</td>\n            </tr>\n            <tr>\n                <td style=\"width: 50px; height: 50px; text-align: center; background-color: #f2f2f2;\">8</td>\n                <td style=\"width: 50px; height: 50px; text-align: center; background-color: #d9d9d9;\">7</td>\n                <td style=\"width: 50px; height: 50px; text-align: center; background-color: #bfbfbf;\">6</td>\n            </tr>\n        </table>\n        "
          }
        },
        "63ac3dd961b249aa807bbeb961487b89": {
          "model_module": "@jupyter-widgets/base",
          "model_name": "LayoutModel",
          "model_module_version": "1.2.0",
          "state": {
            "_model_module": "@jupyter-widgets/base",
            "_model_module_version": "1.2.0",
            "_model_name": "LayoutModel",
            "_view_count": null,
            "_view_module": "@jupyter-widgets/base",
            "_view_module_version": "1.2.0",
            "_view_name": "LayoutView",
            "align_content": null,
            "align_items": null,
            "align_self": null,
            "border": null,
            "bottom": null,
            "display": null,
            "flex": null,
            "flex_flow": null,
            "grid_area": null,
            "grid_auto_columns": null,
            "grid_auto_flow": null,
            "grid_auto_rows": null,
            "grid_column": null,
            "grid_gap": null,
            "grid_row": null,
            "grid_template_areas": null,
            "grid_template_columns": null,
            "grid_template_rows": null,
            "height": null,
            "justify_content": null,
            "justify_items": null,
            "left": null,
            "margin": null,
            "max_height": null,
            "max_width": null,
            "min_height": null,
            "min_width": null,
            "object_fit": null,
            "object_position": null,
            "order": null,
            "overflow": null,
            "overflow_x": null,
            "overflow_y": null,
            "padding": null,
            "right": null,
            "top": null,
            "visibility": null,
            "width": null
          }
        },
        "fbc5fe35c626434898fd1ef67c47e1e5": {
          "model_module": "@jupyter-widgets/controls",
          "model_name": "DescriptionStyleModel",
          "model_module_version": "1.5.0",
          "state": {
            "_model_module": "@jupyter-widgets/controls",
            "_model_module_version": "1.5.0",
            "_model_name": "DescriptionStyleModel",
            "_view_count": null,
            "_view_module": "@jupyter-widgets/base",
            "_view_module_version": "1.2.0",
            "_view_name": "StyleView",
            "description_width": ""
          }
        },
        "3944d789ab2948c0b80c97840af038ba": {
          "model_module": "@jupyter-widgets/controls",
          "model_name": "HTMLModel",
          "model_module_version": "1.5.0",
          "state": {
            "_dom_classes": [],
            "_model_module": "@jupyter-widgets/controls",
            "_model_module_version": "1.5.0",
            "_model_name": "HTMLModel",
            "_view_count": null,
            "_view_module": "@jupyter-widgets/controls",
            "_view_module_version": "1.5.0",
            "_view_name": "HTMLView",
            "description": "",
            "description_tooltip": null,
            "layout": "IPY_MODEL_64c722883b024239b47fa55a650eae5f",
            "placeholder": "​",
            "style": "IPY_MODEL_2d996103ea6448f7b26e05e567ae52b4",
            "value": "\n        <table style=\"border-collapse: collapse; border: 2px solid black; margin: auto;\">\n            <tr>\n                <td style=\"width: 50px; height: 50px; text-align: center; background-color: #8c8c8c;\">4</td>\n                <td style=\"width: 50px; height: 50px; text-align: center; background-color: #404040;\">1</td>\n                <td style=\"width: 50px; height: 50px; text-align: center; background-color: #737373;\">3</td>\n            </tr>\n            <tr>\n                <td style=\"width: 50px; height: 50px; text-align: center; background-color: #a6a6a6;\">5</td>\n                <td style=\"width: 50px; height: 50px; text-align: center; background-color: ;\">0</td>\n                <td style=\"width: 50px; height: 50px; text-align: center; background-color: #595959;\">2</td>\n            </tr>\n            <tr>\n                <td style=\"width: 50px; height: 50px; text-align: center; background-color: #f2f2f2;\">8</td>\n                <td style=\"width: 50px; height: 50px; text-align: center; background-color: #d9d9d9;\">7</td>\n                <td style=\"width: 50px; height: 50px; text-align: center; background-color: #bfbfbf;\">6</td>\n            </tr>\n        </table>\n        "
          }
        },
        "64c722883b024239b47fa55a650eae5f": {
          "model_module": "@jupyter-widgets/base",
          "model_name": "LayoutModel",
          "model_module_version": "1.2.0",
          "state": {
            "_model_module": "@jupyter-widgets/base",
            "_model_module_version": "1.2.0",
            "_model_name": "LayoutModel",
            "_view_count": null,
            "_view_module": "@jupyter-widgets/base",
            "_view_module_version": "1.2.0",
            "_view_name": "LayoutView",
            "align_content": null,
            "align_items": null,
            "align_self": null,
            "border": null,
            "bottom": null,
            "display": null,
            "flex": null,
            "flex_flow": null,
            "grid_area": null,
            "grid_auto_columns": null,
            "grid_auto_flow": null,
            "grid_auto_rows": null,
            "grid_column": null,
            "grid_gap": null,
            "grid_row": null,
            "grid_template_areas": null,
            "grid_template_columns": null,
            "grid_template_rows": null,
            "height": null,
            "justify_content": null,
            "justify_items": null,
            "left": null,
            "margin": null,
            "max_height": null,
            "max_width": null,
            "min_height": null,
            "min_width": null,
            "object_fit": null,
            "object_position": null,
            "order": null,
            "overflow": null,
            "overflow_x": null,
            "overflow_y": null,
            "padding": null,
            "right": null,
            "top": null,
            "visibility": null,
            "width": null
          }
        },
        "2d996103ea6448f7b26e05e567ae52b4": {
          "model_module": "@jupyter-widgets/controls",
          "model_name": "DescriptionStyleModel",
          "model_module_version": "1.5.0",
          "state": {
            "_model_module": "@jupyter-widgets/controls",
            "_model_module_version": "1.5.0",
            "_model_name": "DescriptionStyleModel",
            "_view_count": null,
            "_view_module": "@jupyter-widgets/base",
            "_view_module_version": "1.2.0",
            "_view_name": "StyleView",
            "description_width": ""
          }
        },
        "e089276436dd4c1297875fc027d1f300": {
          "model_module": "@jupyter-widgets/controls",
          "model_name": "HTMLModel",
          "model_module_version": "1.5.0",
          "state": {
            "_dom_classes": [],
            "_model_module": "@jupyter-widgets/controls",
            "_model_module_version": "1.5.0",
            "_model_name": "HTMLModel",
            "_view_count": null,
            "_view_module": "@jupyter-widgets/controls",
            "_view_module_version": "1.5.0",
            "_view_name": "HTMLView",
            "description": "",
            "description_tooltip": null,
            "layout": "IPY_MODEL_bcb6af4a4666458f85c68a2b5deb6172",
            "placeholder": "​",
            "style": "IPY_MODEL_f7ef782259dd4ba4b7e5a5e166bedfc2",
            "value": "\n        <table style=\"border-collapse: collapse; border: 2px solid black; margin: auto;\">\n            <tr>\n                <td style=\"width: 50px; height: 50px; text-align: center; background-color: #8c8c8c;\">4</td>\n                <td style=\"width: 50px; height: 50px; text-align: center; background-color: #404040;\">1</td>\n                <td style=\"width: 50px; height: 50px; text-align: center; background-color: #737373;\">3</td>\n            </tr>\n            <tr>\n                <td style=\"width: 50px; height: 50px; text-align: center; background-color: #a6a6a6;\">5</td>\n                <td style=\"width: 50px; height: 50px; text-align: center; background-color: #d9d9d9;\">7</td>\n                <td style=\"width: 50px; height: 50px; text-align: center; background-color: #595959;\">2</td>\n            </tr>\n            <tr>\n                <td style=\"width: 50px; height: 50px; text-align: center; background-color: #f2f2f2;\">8</td>\n                <td style=\"width: 50px; height: 50px; text-align: center; background-color: ;\">0</td>\n                <td style=\"width: 50px; height: 50px; text-align: center; background-color: #bfbfbf;\">6</td>\n            </tr>\n        </table>\n        "
          }
        },
        "bcb6af4a4666458f85c68a2b5deb6172": {
          "model_module": "@jupyter-widgets/base",
          "model_name": "LayoutModel",
          "model_module_version": "1.2.0",
          "state": {
            "_model_module": "@jupyter-widgets/base",
            "_model_module_version": "1.2.0",
            "_model_name": "LayoutModel",
            "_view_count": null,
            "_view_module": "@jupyter-widgets/base",
            "_view_module_version": "1.2.0",
            "_view_name": "LayoutView",
            "align_content": null,
            "align_items": null,
            "align_self": null,
            "border": null,
            "bottom": null,
            "display": null,
            "flex": null,
            "flex_flow": null,
            "grid_area": null,
            "grid_auto_columns": null,
            "grid_auto_flow": null,
            "grid_auto_rows": null,
            "grid_column": null,
            "grid_gap": null,
            "grid_row": null,
            "grid_template_areas": null,
            "grid_template_columns": null,
            "grid_template_rows": null,
            "height": null,
            "justify_content": null,
            "justify_items": null,
            "left": null,
            "margin": null,
            "max_height": null,
            "max_width": null,
            "min_height": null,
            "min_width": null,
            "object_fit": null,
            "object_position": null,
            "order": null,
            "overflow": null,
            "overflow_x": null,
            "overflow_y": null,
            "padding": null,
            "right": null,
            "top": null,
            "visibility": null,
            "width": null
          }
        },
        "f7ef782259dd4ba4b7e5a5e166bedfc2": {
          "model_module": "@jupyter-widgets/controls",
          "model_name": "DescriptionStyleModel",
          "model_module_version": "1.5.0",
          "state": {
            "_model_module": "@jupyter-widgets/controls",
            "_model_module_version": "1.5.0",
            "_model_name": "DescriptionStyleModel",
            "_view_count": null,
            "_view_module": "@jupyter-widgets/base",
            "_view_module_version": "1.2.0",
            "_view_name": "StyleView",
            "description_width": ""
          }
        },
        "07c7340f70fb455ab8c0cd6144e1b803": {
          "model_module": "@jupyter-widgets/controls",
          "model_name": "HTMLModel",
          "model_module_version": "1.5.0",
          "state": {
            "_dom_classes": [],
            "_model_module": "@jupyter-widgets/controls",
            "_model_module_version": "1.5.0",
            "_model_name": "HTMLModel",
            "_view_count": null,
            "_view_module": "@jupyter-widgets/controls",
            "_view_module_version": "1.5.0",
            "_view_name": "HTMLView",
            "description": "",
            "description_tooltip": null,
            "layout": "IPY_MODEL_dcb33608c40f4b13bda9fe27e40ef304",
            "placeholder": "​",
            "style": "IPY_MODEL_ce2d04147acf4d78a45824aa607a04d7",
            "value": "\n        <table style=\"border-collapse: collapse; border: 2px solid black; margin: auto;\">\n            <tr>\n                <td style=\"width: 50px; height: 50px; text-align: center; background-color: #8c8c8c;\">4</td>\n                <td style=\"width: 50px; height: 50px; text-align: center; background-color: #404040;\">1</td>\n                <td style=\"width: 50px; height: 50px; text-align: center; background-color: #737373;\">3</td>\n            </tr>\n            <tr>\n                <td style=\"width: 50px; height: 50px; text-align: center; background-color: #a6a6a6;\">5</td>\n                <td style=\"width: 50px; height: 50px; text-align: center; background-color: #d9d9d9;\">7</td>\n                <td style=\"width: 50px; height: 50px; text-align: center; background-color: #595959;\">2</td>\n            </tr>\n            <tr>\n                <td style=\"width: 50px; height: 50px; text-align: center; background-color: ;\">0</td>\n                <td style=\"width: 50px; height: 50px; text-align: center; background-color: #f2f2f2;\">8</td>\n                <td style=\"width: 50px; height: 50px; text-align: center; background-color: #bfbfbf;\">6</td>\n            </tr>\n        </table>\n        "
          }
        },
        "dcb33608c40f4b13bda9fe27e40ef304": {
          "model_module": "@jupyter-widgets/base",
          "model_name": "LayoutModel",
          "model_module_version": "1.2.0",
          "state": {
            "_model_module": "@jupyter-widgets/base",
            "_model_module_version": "1.2.0",
            "_model_name": "LayoutModel",
            "_view_count": null,
            "_view_module": "@jupyter-widgets/base",
            "_view_module_version": "1.2.0",
            "_view_name": "LayoutView",
            "align_content": null,
            "align_items": null,
            "align_self": null,
            "border": null,
            "bottom": null,
            "display": null,
            "flex": null,
            "flex_flow": null,
            "grid_area": null,
            "grid_auto_columns": null,
            "grid_auto_flow": null,
            "grid_auto_rows": null,
            "grid_column": null,
            "grid_gap": null,
            "grid_row": null,
            "grid_template_areas": null,
            "grid_template_columns": null,
            "grid_template_rows": null,
            "height": null,
            "justify_content": null,
            "justify_items": null,
            "left": null,
            "margin": null,
            "max_height": null,
            "max_width": null,
            "min_height": null,
            "min_width": null,
            "object_fit": null,
            "object_position": null,
            "order": null,
            "overflow": null,
            "overflow_x": null,
            "overflow_y": null,
            "padding": null,
            "right": null,
            "top": null,
            "visibility": null,
            "width": null
          }
        },
        "ce2d04147acf4d78a45824aa607a04d7": {
          "model_module": "@jupyter-widgets/controls",
          "model_name": "DescriptionStyleModel",
          "model_module_version": "1.5.0",
          "state": {
            "_model_module": "@jupyter-widgets/controls",
            "_model_module_version": "1.5.0",
            "_model_name": "DescriptionStyleModel",
            "_view_count": null,
            "_view_module": "@jupyter-widgets/base",
            "_view_module_version": "1.2.0",
            "_view_name": "StyleView",
            "description_width": ""
          }
        },
        "cd74cea4d7324f20a50e811d0774b871": {
          "model_module": "@jupyter-widgets/controls",
          "model_name": "HTMLModel",
          "model_module_version": "1.5.0",
          "state": {
            "_dom_classes": [],
            "_model_module": "@jupyter-widgets/controls",
            "_model_module_version": "1.5.0",
            "_model_name": "HTMLModel",
            "_view_count": null,
            "_view_module": "@jupyter-widgets/controls",
            "_view_module_version": "1.5.0",
            "_view_name": "HTMLView",
            "description": "",
            "description_tooltip": null,
            "layout": "IPY_MODEL_3475f78ad73d4b019acd75c88bc9c2b9",
            "placeholder": "​",
            "style": "IPY_MODEL_1615b68753914e26bcfbce906db04540",
            "value": "\n        <table style=\"border-collapse: collapse; border: 2px solid black; margin: auto;\">\n            <tr>\n                <td style=\"width: 50px; height: 50px; text-align: center; background-color: #8c8c8c;\">4</td>\n                <td style=\"width: 50px; height: 50px; text-align: center; background-color: #404040;\">1</td>\n                <td style=\"width: 50px; height: 50px; text-align: center; background-color: #737373;\">3</td>\n            </tr>\n            <tr>\n                <td style=\"width: 50px; height: 50px; text-align: center; background-color: ;\">0</td>\n                <td style=\"width: 50px; height: 50px; text-align: center; background-color: #d9d9d9;\">7</td>\n                <td style=\"width: 50px; height: 50px; text-align: center; background-color: #595959;\">2</td>\n            </tr>\n            <tr>\n                <td style=\"width: 50px; height: 50px; text-align: center; background-color: #a6a6a6;\">5</td>\n                <td style=\"width: 50px; height: 50px; text-align: center; background-color: #f2f2f2;\">8</td>\n                <td style=\"width: 50px; height: 50px; text-align: center; background-color: #bfbfbf;\">6</td>\n            </tr>\n        </table>\n        "
          }
        },
        "3475f78ad73d4b019acd75c88bc9c2b9": {
          "model_module": "@jupyter-widgets/base",
          "model_name": "LayoutModel",
          "model_module_version": "1.2.0",
          "state": {
            "_model_module": "@jupyter-widgets/base",
            "_model_module_version": "1.2.0",
            "_model_name": "LayoutModel",
            "_view_count": null,
            "_view_module": "@jupyter-widgets/base",
            "_view_module_version": "1.2.0",
            "_view_name": "LayoutView",
            "align_content": null,
            "align_items": null,
            "align_self": null,
            "border": null,
            "bottom": null,
            "display": null,
            "flex": null,
            "flex_flow": null,
            "grid_area": null,
            "grid_auto_columns": null,
            "grid_auto_flow": null,
            "grid_auto_rows": null,
            "grid_column": null,
            "grid_gap": null,
            "grid_row": null,
            "grid_template_areas": null,
            "grid_template_columns": null,
            "grid_template_rows": null,
            "height": null,
            "justify_content": null,
            "justify_items": null,
            "left": null,
            "margin": null,
            "max_height": null,
            "max_width": null,
            "min_height": null,
            "min_width": null,
            "object_fit": null,
            "object_position": null,
            "order": null,
            "overflow": null,
            "overflow_x": null,
            "overflow_y": null,
            "padding": null,
            "right": null,
            "top": null,
            "visibility": null,
            "width": null
          }
        },
        "1615b68753914e26bcfbce906db04540": {
          "model_module": "@jupyter-widgets/controls",
          "model_name": "DescriptionStyleModel",
          "model_module_version": "1.5.0",
          "state": {
            "_model_module": "@jupyter-widgets/controls",
            "_model_module_version": "1.5.0",
            "_model_name": "DescriptionStyleModel",
            "_view_count": null,
            "_view_module": "@jupyter-widgets/base",
            "_view_module_version": "1.2.0",
            "_view_name": "StyleView",
            "description_width": ""
          }
        },
        "71902d75590748be919f66e844e93bab": {
          "model_module": "@jupyter-widgets/controls",
          "model_name": "HTMLModel",
          "model_module_version": "1.5.0",
          "state": {
            "_dom_classes": [],
            "_model_module": "@jupyter-widgets/controls",
            "_model_module_version": "1.5.0",
            "_model_name": "HTMLModel",
            "_view_count": null,
            "_view_module": "@jupyter-widgets/controls",
            "_view_module_version": "1.5.0",
            "_view_name": "HTMLView",
            "description": "",
            "description_tooltip": null,
            "layout": "IPY_MODEL_85c01ccb190448648795193530d70c3f",
            "placeholder": "​",
            "style": "IPY_MODEL_701df8b1067247da8ebd1c58eb727c71",
            "value": "\n        <table style=\"border-collapse: collapse; border: 2px solid black; margin: auto;\">\n            <tr>\n                <td style=\"width: 50px; height: 50px; text-align: center; background-color: #8c8c8c;\">4</td>\n                <td style=\"width: 50px; height: 50px; text-align: center; background-color: #404040;\">1</td>\n                <td style=\"width: 50px; height: 50px; text-align: center; background-color: #737373;\">3</td>\n            </tr>\n            <tr>\n                <td style=\"width: 50px; height: 50px; text-align: center; background-color: #d9d9d9;\">7</td>\n                <td style=\"width: 50px; height: 50px; text-align: center; background-color: ;\">0</td>\n                <td style=\"width: 50px; height: 50px; text-align: center; background-color: #595959;\">2</td>\n            </tr>\n            <tr>\n                <td style=\"width: 50px; height: 50px; text-align: center; background-color: #a6a6a6;\">5</td>\n                <td style=\"width: 50px; height: 50px; text-align: center; background-color: #f2f2f2;\">8</td>\n                <td style=\"width: 50px; height: 50px; text-align: center; background-color: #bfbfbf;\">6</td>\n            </tr>\n        </table>\n        "
          }
        },
        "85c01ccb190448648795193530d70c3f": {
          "model_module": "@jupyter-widgets/base",
          "model_name": "LayoutModel",
          "model_module_version": "1.2.0",
          "state": {
            "_model_module": "@jupyter-widgets/base",
            "_model_module_version": "1.2.0",
            "_model_name": "LayoutModel",
            "_view_count": null,
            "_view_module": "@jupyter-widgets/base",
            "_view_module_version": "1.2.0",
            "_view_name": "LayoutView",
            "align_content": null,
            "align_items": null,
            "align_self": null,
            "border": null,
            "bottom": null,
            "display": null,
            "flex": null,
            "flex_flow": null,
            "grid_area": null,
            "grid_auto_columns": null,
            "grid_auto_flow": null,
            "grid_auto_rows": null,
            "grid_column": null,
            "grid_gap": null,
            "grid_row": null,
            "grid_template_areas": null,
            "grid_template_columns": null,
            "grid_template_rows": null,
            "height": null,
            "justify_content": null,
            "justify_items": null,
            "left": null,
            "margin": null,
            "max_height": null,
            "max_width": null,
            "min_height": null,
            "min_width": null,
            "object_fit": null,
            "object_position": null,
            "order": null,
            "overflow": null,
            "overflow_x": null,
            "overflow_y": null,
            "padding": null,
            "right": null,
            "top": null,
            "visibility": null,
            "width": null
          }
        },
        "701df8b1067247da8ebd1c58eb727c71": {
          "model_module": "@jupyter-widgets/controls",
          "model_name": "DescriptionStyleModel",
          "model_module_version": "1.5.0",
          "state": {
            "_model_module": "@jupyter-widgets/controls",
            "_model_module_version": "1.5.0",
            "_model_name": "DescriptionStyleModel",
            "_view_count": null,
            "_view_module": "@jupyter-widgets/base",
            "_view_module_version": "1.2.0",
            "_view_name": "StyleView",
            "description_width": ""
          }
        },
        "ec50bebec9b3453b960b837758abd6e2": {
          "model_module": "@jupyter-widgets/controls",
          "model_name": "HTMLModel",
          "model_module_version": "1.5.0",
          "state": {
            "_dom_classes": [],
            "_model_module": "@jupyter-widgets/controls",
            "_model_module_version": "1.5.0",
            "_model_name": "HTMLModel",
            "_view_count": null,
            "_view_module": "@jupyter-widgets/controls",
            "_view_module_version": "1.5.0",
            "_view_name": "HTMLView",
            "description": "",
            "description_tooltip": null,
            "layout": "IPY_MODEL_738693e338df47a2b834893dfca1a40f",
            "placeholder": "​",
            "style": "IPY_MODEL_cd9f043653524fedb96ba74994cba3dd",
            "value": "\n        <table style=\"border-collapse: collapse; border: 2px solid black; margin: auto;\">\n            <tr>\n                <td style=\"width: 50px; height: 50px; text-align: center; background-color: #8c8c8c;\">4</td>\n                <td style=\"width: 50px; height: 50px; text-align: center; background-color: #404040;\">1</td>\n                <td style=\"width: 50px; height: 50px; text-align: center; background-color: #737373;\">3</td>\n            </tr>\n            <tr>\n                <td style=\"width: 50px; height: 50px; text-align: center; background-color: #d9d9d9;\">7</td>\n                <td style=\"width: 50px; height: 50px; text-align: center; background-color: #595959;\">2</td>\n                <td style=\"width: 50px; height: 50px; text-align: center; background-color: ;\">0</td>\n            </tr>\n            <tr>\n                <td style=\"width: 50px; height: 50px; text-align: center; background-color: #a6a6a6;\">5</td>\n                <td style=\"width: 50px; height: 50px; text-align: center; background-color: #f2f2f2;\">8</td>\n                <td style=\"width: 50px; height: 50px; text-align: center; background-color: #bfbfbf;\">6</td>\n            </tr>\n        </table>\n        "
          }
        },
        "738693e338df47a2b834893dfca1a40f": {
          "model_module": "@jupyter-widgets/base",
          "model_name": "LayoutModel",
          "model_module_version": "1.2.0",
          "state": {
            "_model_module": "@jupyter-widgets/base",
            "_model_module_version": "1.2.0",
            "_model_name": "LayoutModel",
            "_view_count": null,
            "_view_module": "@jupyter-widgets/base",
            "_view_module_version": "1.2.0",
            "_view_name": "LayoutView",
            "align_content": null,
            "align_items": null,
            "align_self": null,
            "border": null,
            "bottom": null,
            "display": null,
            "flex": null,
            "flex_flow": null,
            "grid_area": null,
            "grid_auto_columns": null,
            "grid_auto_flow": null,
            "grid_auto_rows": null,
            "grid_column": null,
            "grid_gap": null,
            "grid_row": null,
            "grid_template_areas": null,
            "grid_template_columns": null,
            "grid_template_rows": null,
            "height": null,
            "justify_content": null,
            "justify_items": null,
            "left": null,
            "margin": null,
            "max_height": null,
            "max_width": null,
            "min_height": null,
            "min_width": null,
            "object_fit": null,
            "object_position": null,
            "order": null,
            "overflow": null,
            "overflow_x": null,
            "overflow_y": null,
            "padding": null,
            "right": null,
            "top": null,
            "visibility": null,
            "width": null
          }
        },
        "cd9f043653524fedb96ba74994cba3dd": {
          "model_module": "@jupyter-widgets/controls",
          "model_name": "DescriptionStyleModel",
          "model_module_version": "1.5.0",
          "state": {
            "_model_module": "@jupyter-widgets/controls",
            "_model_module_version": "1.5.0",
            "_model_name": "DescriptionStyleModel",
            "_view_count": null,
            "_view_module": "@jupyter-widgets/base",
            "_view_module_version": "1.2.0",
            "_view_name": "StyleView",
            "description_width": ""
          }
        },
        "476f45b86241408196ef38fe800e4a47": {
          "model_module": "@jupyter-widgets/controls",
          "model_name": "HTMLModel",
          "model_module_version": "1.5.0",
          "state": {
            "_dom_classes": [],
            "_model_module": "@jupyter-widgets/controls",
            "_model_module_version": "1.5.0",
            "_model_name": "HTMLModel",
            "_view_count": null,
            "_view_module": "@jupyter-widgets/controls",
            "_view_module_version": "1.5.0",
            "_view_name": "HTMLView",
            "description": "",
            "description_tooltip": null,
            "layout": "IPY_MODEL_78efa19c8e5a496b889a872b8b4a853b",
            "placeholder": "​",
            "style": "IPY_MODEL_058413e4feb44831a2582cb409b14edc",
            "value": "\n        <table style=\"border-collapse: collapse; border: 2px solid black; margin: auto;\">\n            <tr>\n                <td style=\"width: 50px; height: 50px; text-align: center; background-color: #8c8c8c;\">4</td>\n                <td style=\"width: 50px; height: 50px; text-align: center; background-color: #404040;\">1</td>\n                <td style=\"width: 50px; height: 50px; text-align: center; background-color: #737373;\">3</td>\n            </tr>\n            <tr>\n                <td style=\"width: 50px; height: 50px; text-align: center; background-color: #d9d9d9;\">7</td>\n                <td style=\"width: 50px; height: 50px; text-align: center; background-color: #595959;\">2</td>\n                <td style=\"width: 50px; height: 50px; text-align: center; background-color: #bfbfbf;\">6</td>\n            </tr>\n            <tr>\n                <td style=\"width: 50px; height: 50px; text-align: center; background-color: #a6a6a6;\">5</td>\n                <td style=\"width: 50px; height: 50px; text-align: center; background-color: #f2f2f2;\">8</td>\n                <td style=\"width: 50px; height: 50px; text-align: center; background-color: ;\">0</td>\n            </tr>\n        </table>\n        "
          }
        },
        "78efa19c8e5a496b889a872b8b4a853b": {
          "model_module": "@jupyter-widgets/base",
          "model_name": "LayoutModel",
          "model_module_version": "1.2.0",
          "state": {
            "_model_module": "@jupyter-widgets/base",
            "_model_module_version": "1.2.0",
            "_model_name": "LayoutModel",
            "_view_count": null,
            "_view_module": "@jupyter-widgets/base",
            "_view_module_version": "1.2.0",
            "_view_name": "LayoutView",
            "align_content": null,
            "align_items": null,
            "align_self": null,
            "border": null,
            "bottom": null,
            "display": null,
            "flex": null,
            "flex_flow": null,
            "grid_area": null,
            "grid_auto_columns": null,
            "grid_auto_flow": null,
            "grid_auto_rows": null,
            "grid_column": null,
            "grid_gap": null,
            "grid_row": null,
            "grid_template_areas": null,
            "grid_template_columns": null,
            "grid_template_rows": null,
            "height": null,
            "justify_content": null,
            "justify_items": null,
            "left": null,
            "margin": null,
            "max_height": null,
            "max_width": null,
            "min_height": null,
            "min_width": null,
            "object_fit": null,
            "object_position": null,
            "order": null,
            "overflow": null,
            "overflow_x": null,
            "overflow_y": null,
            "padding": null,
            "right": null,
            "top": null,
            "visibility": null,
            "width": null
          }
        },
        "058413e4feb44831a2582cb409b14edc": {
          "model_module": "@jupyter-widgets/controls",
          "model_name": "DescriptionStyleModel",
          "model_module_version": "1.5.0",
          "state": {
            "_model_module": "@jupyter-widgets/controls",
            "_model_module_version": "1.5.0",
            "_model_name": "DescriptionStyleModel",
            "_view_count": null,
            "_view_module": "@jupyter-widgets/base",
            "_view_module_version": "1.2.0",
            "_view_name": "StyleView",
            "description_width": ""
          }
        },
        "d855e6153190413a8bca050ee0f34704": {
          "model_module": "@jupyter-widgets/controls",
          "model_name": "HTMLModel",
          "model_module_version": "1.5.0",
          "state": {
            "_dom_classes": [],
            "_model_module": "@jupyter-widgets/controls",
            "_model_module_version": "1.5.0",
            "_model_name": "HTMLModel",
            "_view_count": null,
            "_view_module": "@jupyter-widgets/controls",
            "_view_module_version": "1.5.0",
            "_view_name": "HTMLView",
            "description": "",
            "description_tooltip": null,
            "layout": "IPY_MODEL_9bc26ee2c78644d7b1a10014b6387f2a",
            "placeholder": "​",
            "style": "IPY_MODEL_72b174f583974d7ead1428a8eb01b8ad",
            "value": "\n        <table style=\"border-collapse: collapse; border: 2px solid black; margin: auto;\">\n            <tr>\n                <td style=\"width: 50px; height: 50px; text-align: center; background-color: #8c8c8c;\">4</td>\n                <td style=\"width: 50px; height: 50px; text-align: center; background-color: #404040;\">1</td>\n                <td style=\"width: 50px; height: 50px; text-align: center; background-color: #737373;\">3</td>\n            </tr>\n            <tr>\n                <td style=\"width: 50px; height: 50px; text-align: center; background-color: #d9d9d9;\">7</td>\n                <td style=\"width: 50px; height: 50px; text-align: center; background-color: #595959;\">2</td>\n                <td style=\"width: 50px; height: 50px; text-align: center; background-color: #bfbfbf;\">6</td>\n            </tr>\n            <tr>\n                <td style=\"width: 50px; height: 50px; text-align: center; background-color: #a6a6a6;\">5</td>\n                <td style=\"width: 50px; height: 50px; text-align: center; background-color: ;\">0</td>\n                <td style=\"width: 50px; height: 50px; text-align: center; background-color: #f2f2f2;\">8</td>\n            </tr>\n        </table>\n        "
          }
        },
        "9bc26ee2c78644d7b1a10014b6387f2a": {
          "model_module": "@jupyter-widgets/base",
          "model_name": "LayoutModel",
          "model_module_version": "1.2.0",
          "state": {
            "_model_module": "@jupyter-widgets/base",
            "_model_module_version": "1.2.0",
            "_model_name": "LayoutModel",
            "_view_count": null,
            "_view_module": "@jupyter-widgets/base",
            "_view_module_version": "1.2.0",
            "_view_name": "LayoutView",
            "align_content": null,
            "align_items": null,
            "align_self": null,
            "border": null,
            "bottom": null,
            "display": null,
            "flex": null,
            "flex_flow": null,
            "grid_area": null,
            "grid_auto_columns": null,
            "grid_auto_flow": null,
            "grid_auto_rows": null,
            "grid_column": null,
            "grid_gap": null,
            "grid_row": null,
            "grid_template_areas": null,
            "grid_template_columns": null,
            "grid_template_rows": null,
            "height": null,
            "justify_content": null,
            "justify_items": null,
            "left": null,
            "margin": null,
            "max_height": null,
            "max_width": null,
            "min_height": null,
            "min_width": null,
            "object_fit": null,
            "object_position": null,
            "order": null,
            "overflow": null,
            "overflow_x": null,
            "overflow_y": null,
            "padding": null,
            "right": null,
            "top": null,
            "visibility": null,
            "width": null
          }
        },
        "72b174f583974d7ead1428a8eb01b8ad": {
          "model_module": "@jupyter-widgets/controls",
          "model_name": "DescriptionStyleModel",
          "model_module_version": "1.5.0",
          "state": {
            "_model_module": "@jupyter-widgets/controls",
            "_model_module_version": "1.5.0",
            "_model_name": "DescriptionStyleModel",
            "_view_count": null,
            "_view_module": "@jupyter-widgets/base",
            "_view_module_version": "1.2.0",
            "_view_name": "StyleView",
            "description_width": ""
          }
        },
        "0caed3ed22fc46918e919477f03427a2": {
          "model_module": "@jupyter-widgets/controls",
          "model_name": "HTMLModel",
          "model_module_version": "1.5.0",
          "state": {
            "_dom_classes": [],
            "_model_module": "@jupyter-widgets/controls",
            "_model_module_version": "1.5.0",
            "_model_name": "HTMLModel",
            "_view_count": null,
            "_view_module": "@jupyter-widgets/controls",
            "_view_module_version": "1.5.0",
            "_view_name": "HTMLView",
            "description": "",
            "description_tooltip": null,
            "layout": "IPY_MODEL_77654a7686e64c75b48865d3b6b4d460",
            "placeholder": "​",
            "style": "IPY_MODEL_8c79262278984af9bc01572f398562bb",
            "value": "\n        <table style=\"border-collapse: collapse; border: 2px solid black; margin: auto;\">\n            <tr>\n                <td style=\"width: 50px; height: 50px; text-align: center; background-color: #8c8c8c;\">4</td>\n                <td style=\"width: 50px; height: 50px; text-align: center; background-color: #404040;\">1</td>\n                <td style=\"width: 50px; height: 50px; text-align: center; background-color: #737373;\">3</td>\n            </tr>\n            <tr>\n                <td style=\"width: 50px; height: 50px; text-align: center; background-color: #d9d9d9;\">7</td>\n                <td style=\"width: 50px; height: 50px; text-align: center; background-color: #595959;\">2</td>\n                <td style=\"width: 50px; height: 50px; text-align: center; background-color: #bfbfbf;\">6</td>\n            </tr>\n            <tr>\n                <td style=\"width: 50px; height: 50px; text-align: center; background-color: ;\">0</td>\n                <td style=\"width: 50px; height: 50px; text-align: center; background-color: #a6a6a6;\">5</td>\n                <td style=\"width: 50px; height: 50px; text-align: center; background-color: #f2f2f2;\">8</td>\n            </tr>\n        </table>\n        "
          }
        },
        "77654a7686e64c75b48865d3b6b4d460": {
          "model_module": "@jupyter-widgets/base",
          "model_name": "LayoutModel",
          "model_module_version": "1.2.0",
          "state": {
            "_model_module": "@jupyter-widgets/base",
            "_model_module_version": "1.2.0",
            "_model_name": "LayoutModel",
            "_view_count": null,
            "_view_module": "@jupyter-widgets/base",
            "_view_module_version": "1.2.0",
            "_view_name": "LayoutView",
            "align_content": null,
            "align_items": null,
            "align_self": null,
            "border": null,
            "bottom": null,
            "display": null,
            "flex": null,
            "flex_flow": null,
            "grid_area": null,
            "grid_auto_columns": null,
            "grid_auto_flow": null,
            "grid_auto_rows": null,
            "grid_column": null,
            "grid_gap": null,
            "grid_row": null,
            "grid_template_areas": null,
            "grid_template_columns": null,
            "grid_template_rows": null,
            "height": null,
            "justify_content": null,
            "justify_items": null,
            "left": null,
            "margin": null,
            "max_height": null,
            "max_width": null,
            "min_height": null,
            "min_width": null,
            "object_fit": null,
            "object_position": null,
            "order": null,
            "overflow": null,
            "overflow_x": null,
            "overflow_y": null,
            "padding": null,
            "right": null,
            "top": null,
            "visibility": null,
            "width": null
          }
        },
        "8c79262278984af9bc01572f398562bb": {
          "model_module": "@jupyter-widgets/controls",
          "model_name": "DescriptionStyleModel",
          "model_module_version": "1.5.0",
          "state": {
            "_model_module": "@jupyter-widgets/controls",
            "_model_module_version": "1.5.0",
            "_model_name": "DescriptionStyleModel",
            "_view_count": null,
            "_view_module": "@jupyter-widgets/base",
            "_view_module_version": "1.2.0",
            "_view_name": "StyleView",
            "description_width": ""
          }
        },
        "b255c3ec1e5a401abe3afcb1753e379b": {
          "model_module": "@jupyter-widgets/controls",
          "model_name": "HTMLModel",
          "model_module_version": "1.5.0",
          "state": {
            "_dom_classes": [],
            "_model_module": "@jupyter-widgets/controls",
            "_model_module_version": "1.5.0",
            "_model_name": "HTMLModel",
            "_view_count": null,
            "_view_module": "@jupyter-widgets/controls",
            "_view_module_version": "1.5.0",
            "_view_name": "HTMLView",
            "description": "",
            "description_tooltip": null,
            "layout": "IPY_MODEL_82fc34f276f345508011ef963a4dd0a2",
            "placeholder": "​",
            "style": "IPY_MODEL_123501580da64422a3b2f87445ee2850",
            "value": "\n        <table style=\"border-collapse: collapse; border: 2px solid black; margin: auto;\">\n            <tr>\n                <td style=\"width: 50px; height: 50px; text-align: center; background-color: #8c8c8c;\">4</td>\n                <td style=\"width: 50px; height: 50px; text-align: center; background-color: #404040;\">1</td>\n                <td style=\"width: 50px; height: 50px; text-align: center; background-color: #737373;\">3</td>\n            </tr>\n            <tr>\n                <td style=\"width: 50px; height: 50px; text-align: center; background-color: ;\">0</td>\n                <td style=\"width: 50px; height: 50px; text-align: center; background-color: #595959;\">2</td>\n                <td style=\"width: 50px; height: 50px; text-align: center; background-color: #bfbfbf;\">6</td>\n            </tr>\n            <tr>\n                <td style=\"width: 50px; height: 50px; text-align: center; background-color: #d9d9d9;\">7</td>\n                <td style=\"width: 50px; height: 50px; text-align: center; background-color: #a6a6a6;\">5</td>\n                <td style=\"width: 50px; height: 50px; text-align: center; background-color: #f2f2f2;\">8</td>\n            </tr>\n        </table>\n        "
          }
        },
        "82fc34f276f345508011ef963a4dd0a2": {
          "model_module": "@jupyter-widgets/base",
          "model_name": "LayoutModel",
          "model_module_version": "1.2.0",
          "state": {
            "_model_module": "@jupyter-widgets/base",
            "_model_module_version": "1.2.0",
            "_model_name": "LayoutModel",
            "_view_count": null,
            "_view_module": "@jupyter-widgets/base",
            "_view_module_version": "1.2.0",
            "_view_name": "LayoutView",
            "align_content": null,
            "align_items": null,
            "align_self": null,
            "border": null,
            "bottom": null,
            "display": null,
            "flex": null,
            "flex_flow": null,
            "grid_area": null,
            "grid_auto_columns": null,
            "grid_auto_flow": null,
            "grid_auto_rows": null,
            "grid_column": null,
            "grid_gap": null,
            "grid_row": null,
            "grid_template_areas": null,
            "grid_template_columns": null,
            "grid_template_rows": null,
            "height": null,
            "justify_content": null,
            "justify_items": null,
            "left": null,
            "margin": null,
            "max_height": null,
            "max_width": null,
            "min_height": null,
            "min_width": null,
            "object_fit": null,
            "object_position": null,
            "order": null,
            "overflow": null,
            "overflow_x": null,
            "overflow_y": null,
            "padding": null,
            "right": null,
            "top": null,
            "visibility": null,
            "width": null
          }
        },
        "123501580da64422a3b2f87445ee2850": {
          "model_module": "@jupyter-widgets/controls",
          "model_name": "DescriptionStyleModel",
          "model_module_version": "1.5.0",
          "state": {
            "_model_module": "@jupyter-widgets/controls",
            "_model_module_version": "1.5.0",
            "_model_name": "DescriptionStyleModel",
            "_view_count": null,
            "_view_module": "@jupyter-widgets/base",
            "_view_module_version": "1.2.0",
            "_view_name": "StyleView",
            "description_width": ""
          }
        },
        "5aa2c25139ec4d9b8905ab085982bbe0": {
          "model_module": "@jupyter-widgets/controls",
          "model_name": "HTMLModel",
          "model_module_version": "1.5.0",
          "state": {
            "_dom_classes": [],
            "_model_module": "@jupyter-widgets/controls",
            "_model_module_version": "1.5.0",
            "_model_name": "HTMLModel",
            "_view_count": null,
            "_view_module": "@jupyter-widgets/controls",
            "_view_module_version": "1.5.0",
            "_view_name": "HTMLView",
            "description": "",
            "description_tooltip": null,
            "layout": "IPY_MODEL_03a00c2ab48245dd8cb728f26d71c8fa",
            "placeholder": "​",
            "style": "IPY_MODEL_4ac9e97c9966482992bd24aa4e6e8b4f",
            "value": "\n        <table style=\"border-collapse: collapse; border: 2px solid black; margin: auto;\">\n            <tr>\n                <td style=\"width: 50px; height: 50px; text-align: center; background-color: ;\">0</td>\n                <td style=\"width: 50px; height: 50px; text-align: center; background-color: #404040;\">1</td>\n                <td style=\"width: 50px; height: 50px; text-align: center; background-color: #737373;\">3</td>\n            </tr>\n            <tr>\n                <td style=\"width: 50px; height: 50px; text-align: center; background-color: #8c8c8c;\">4</td>\n                <td style=\"width: 50px; height: 50px; text-align: center; background-color: #595959;\">2</td>\n                <td style=\"width: 50px; height: 50px; text-align: center; background-color: #bfbfbf;\">6</td>\n            </tr>\n            <tr>\n                <td style=\"width: 50px; height: 50px; text-align: center; background-color: #d9d9d9;\">7</td>\n                <td style=\"width: 50px; height: 50px; text-align: center; background-color: #a6a6a6;\">5</td>\n                <td style=\"width: 50px; height: 50px; text-align: center; background-color: #f2f2f2;\">8</td>\n            </tr>\n        </table>\n        "
          }
        },
        "03a00c2ab48245dd8cb728f26d71c8fa": {
          "model_module": "@jupyter-widgets/base",
          "model_name": "LayoutModel",
          "model_module_version": "1.2.0",
          "state": {
            "_model_module": "@jupyter-widgets/base",
            "_model_module_version": "1.2.0",
            "_model_name": "LayoutModel",
            "_view_count": null,
            "_view_module": "@jupyter-widgets/base",
            "_view_module_version": "1.2.0",
            "_view_name": "LayoutView",
            "align_content": null,
            "align_items": null,
            "align_self": null,
            "border": null,
            "bottom": null,
            "display": null,
            "flex": null,
            "flex_flow": null,
            "grid_area": null,
            "grid_auto_columns": null,
            "grid_auto_flow": null,
            "grid_auto_rows": null,
            "grid_column": null,
            "grid_gap": null,
            "grid_row": null,
            "grid_template_areas": null,
            "grid_template_columns": null,
            "grid_template_rows": null,
            "height": null,
            "justify_content": null,
            "justify_items": null,
            "left": null,
            "margin": null,
            "max_height": null,
            "max_width": null,
            "min_height": null,
            "min_width": null,
            "object_fit": null,
            "object_position": null,
            "order": null,
            "overflow": null,
            "overflow_x": null,
            "overflow_y": null,
            "padding": null,
            "right": null,
            "top": null,
            "visibility": null,
            "width": null
          }
        },
        "4ac9e97c9966482992bd24aa4e6e8b4f": {
          "model_module": "@jupyter-widgets/controls",
          "model_name": "DescriptionStyleModel",
          "model_module_version": "1.5.0",
          "state": {
            "_model_module": "@jupyter-widgets/controls",
            "_model_module_version": "1.5.0",
            "_model_name": "DescriptionStyleModel",
            "_view_count": null,
            "_view_module": "@jupyter-widgets/base",
            "_view_module_version": "1.2.0",
            "_view_name": "StyleView",
            "description_width": ""
          }
        },
        "f45d980a10384c90aea30dcb1ecaefaf": {
          "model_module": "@jupyter-widgets/controls",
          "model_name": "HTMLModel",
          "model_module_version": "1.5.0",
          "state": {
            "_dom_classes": [],
            "_model_module": "@jupyter-widgets/controls",
            "_model_module_version": "1.5.0",
            "_model_name": "HTMLModel",
            "_view_count": null,
            "_view_module": "@jupyter-widgets/controls",
            "_view_module_version": "1.5.0",
            "_view_name": "HTMLView",
            "description": "",
            "description_tooltip": null,
            "layout": "IPY_MODEL_25410e9a46f840ec8ecc89b4262152aa",
            "placeholder": "​",
            "style": "IPY_MODEL_2326b1ed8e6c4855b9a489c8f993ff31",
            "value": "\n        <table style=\"border-collapse: collapse; border: 2px solid black; margin: auto;\">\n            <tr>\n                <td style=\"width: 50px; height: 50px; text-align: center; background-color: #404040;\">1</td>\n                <td style=\"width: 50px; height: 50px; text-align: center; background-color: ;\">0</td>\n                <td style=\"width: 50px; height: 50px; text-align: center; background-color: #737373;\">3</td>\n            </tr>\n            <tr>\n                <td style=\"width: 50px; height: 50px; text-align: center; background-color: #8c8c8c;\">4</td>\n                <td style=\"width: 50px; height: 50px; text-align: center; background-color: #595959;\">2</td>\n                <td style=\"width: 50px; height: 50px; text-align: center; background-color: #bfbfbf;\">6</td>\n            </tr>\n            <tr>\n                <td style=\"width: 50px; height: 50px; text-align: center; background-color: #d9d9d9;\">7</td>\n                <td style=\"width: 50px; height: 50px; text-align: center; background-color: #a6a6a6;\">5</td>\n                <td style=\"width: 50px; height: 50px; text-align: center; background-color: #f2f2f2;\">8</td>\n            </tr>\n        </table>\n        "
          }
        },
        "25410e9a46f840ec8ecc89b4262152aa": {
          "model_module": "@jupyter-widgets/base",
          "model_name": "LayoutModel",
          "model_module_version": "1.2.0",
          "state": {
            "_model_module": "@jupyter-widgets/base",
            "_model_module_version": "1.2.0",
            "_model_name": "LayoutModel",
            "_view_count": null,
            "_view_module": "@jupyter-widgets/base",
            "_view_module_version": "1.2.0",
            "_view_name": "LayoutView",
            "align_content": null,
            "align_items": null,
            "align_self": null,
            "border": null,
            "bottom": null,
            "display": null,
            "flex": null,
            "flex_flow": null,
            "grid_area": null,
            "grid_auto_columns": null,
            "grid_auto_flow": null,
            "grid_auto_rows": null,
            "grid_column": null,
            "grid_gap": null,
            "grid_row": null,
            "grid_template_areas": null,
            "grid_template_columns": null,
            "grid_template_rows": null,
            "height": null,
            "justify_content": null,
            "justify_items": null,
            "left": null,
            "margin": null,
            "max_height": null,
            "max_width": null,
            "min_height": null,
            "min_width": null,
            "object_fit": null,
            "object_position": null,
            "order": null,
            "overflow": null,
            "overflow_x": null,
            "overflow_y": null,
            "padding": null,
            "right": null,
            "top": null,
            "visibility": null,
            "width": null
          }
        },
        "2326b1ed8e6c4855b9a489c8f993ff31": {
          "model_module": "@jupyter-widgets/controls",
          "model_name": "DescriptionStyleModel",
          "model_module_version": "1.5.0",
          "state": {
            "_model_module": "@jupyter-widgets/controls",
            "_model_module_version": "1.5.0",
            "_model_name": "DescriptionStyleModel",
            "_view_count": null,
            "_view_module": "@jupyter-widgets/base",
            "_view_module_version": "1.2.0",
            "_view_name": "StyleView",
            "description_width": ""
          }
        },
        "adadeef026104832b80997ec81044d99": {
          "model_module": "@jupyter-widgets/controls",
          "model_name": "HTMLModel",
          "model_module_version": "1.5.0",
          "state": {
            "_dom_classes": [],
            "_model_module": "@jupyter-widgets/controls",
            "_model_module_version": "1.5.0",
            "_model_name": "HTMLModel",
            "_view_count": null,
            "_view_module": "@jupyter-widgets/controls",
            "_view_module_version": "1.5.0",
            "_view_name": "HTMLView",
            "description": "",
            "description_tooltip": null,
            "layout": "IPY_MODEL_ff78dd007a8142c8b824f013b5d741ea",
            "placeholder": "​",
            "style": "IPY_MODEL_f429c385cb4844909e27ea752cdcbd10",
            "value": "\n        <table style=\"border-collapse: collapse; border: 2px solid black; margin: auto;\">\n            <tr>\n                <td style=\"width: 50px; height: 50px; text-align: center; background-color: #404040;\">1</td>\n                <td style=\"width: 50px; height: 50px; text-align: center; background-color: #595959;\">2</td>\n                <td style=\"width: 50px; height: 50px; text-align: center; background-color: #737373;\">3</td>\n            </tr>\n            <tr>\n                <td style=\"width: 50px; height: 50px; text-align: center; background-color: #8c8c8c;\">4</td>\n                <td style=\"width: 50px; height: 50px; text-align: center; background-color: ;\">0</td>\n                <td style=\"width: 50px; height: 50px; text-align: center; background-color: #bfbfbf;\">6</td>\n            </tr>\n            <tr>\n                <td style=\"width: 50px; height: 50px; text-align: center; background-color: #d9d9d9;\">7</td>\n                <td style=\"width: 50px; height: 50px; text-align: center; background-color: #a6a6a6;\">5</td>\n                <td style=\"width: 50px; height: 50px; text-align: center; background-color: #f2f2f2;\">8</td>\n            </tr>\n        </table>\n        "
          }
        },
        "ff78dd007a8142c8b824f013b5d741ea": {
          "model_module": "@jupyter-widgets/base",
          "model_name": "LayoutModel",
          "model_module_version": "1.2.0",
          "state": {
            "_model_module": "@jupyter-widgets/base",
            "_model_module_version": "1.2.0",
            "_model_name": "LayoutModel",
            "_view_count": null,
            "_view_module": "@jupyter-widgets/base",
            "_view_module_version": "1.2.0",
            "_view_name": "LayoutView",
            "align_content": null,
            "align_items": null,
            "align_self": null,
            "border": null,
            "bottom": null,
            "display": null,
            "flex": null,
            "flex_flow": null,
            "grid_area": null,
            "grid_auto_columns": null,
            "grid_auto_flow": null,
            "grid_auto_rows": null,
            "grid_column": null,
            "grid_gap": null,
            "grid_row": null,
            "grid_template_areas": null,
            "grid_template_columns": null,
            "grid_template_rows": null,
            "height": null,
            "justify_content": null,
            "justify_items": null,
            "left": null,
            "margin": null,
            "max_height": null,
            "max_width": null,
            "min_height": null,
            "min_width": null,
            "object_fit": null,
            "object_position": null,
            "order": null,
            "overflow": null,
            "overflow_x": null,
            "overflow_y": null,
            "padding": null,
            "right": null,
            "top": null,
            "visibility": null,
            "width": null
          }
        },
        "f429c385cb4844909e27ea752cdcbd10": {
          "model_module": "@jupyter-widgets/controls",
          "model_name": "DescriptionStyleModel",
          "model_module_version": "1.5.0",
          "state": {
            "_model_module": "@jupyter-widgets/controls",
            "_model_module_version": "1.5.0",
            "_model_name": "DescriptionStyleModel",
            "_view_count": null,
            "_view_module": "@jupyter-widgets/base",
            "_view_module_version": "1.2.0",
            "_view_name": "StyleView",
            "description_width": ""
          }
        },
        "a45f9a9e6ec14afe82327d1404e3b4ad": {
          "model_module": "@jupyter-widgets/controls",
          "model_name": "HTMLModel",
          "model_module_version": "1.5.0",
          "state": {
            "_dom_classes": [],
            "_model_module": "@jupyter-widgets/controls",
            "_model_module_version": "1.5.0",
            "_model_name": "HTMLModel",
            "_view_count": null,
            "_view_module": "@jupyter-widgets/controls",
            "_view_module_version": "1.5.0",
            "_view_name": "HTMLView",
            "description": "",
            "description_tooltip": null,
            "layout": "IPY_MODEL_cf43db38ee54459bb268bae539504ac8",
            "placeholder": "​",
            "style": "IPY_MODEL_1f2ce54a96e041bbb139acd6a3a5a0d2",
            "value": "\n        <table style=\"border-collapse: collapse; border: 2px solid black; margin: auto;\">\n            <tr>\n                <td style=\"width: 50px; height: 50px; text-align: center; background-color: #404040;\">1</td>\n                <td style=\"width: 50px; height: 50px; text-align: center; background-color: #595959;\">2</td>\n                <td style=\"width: 50px; height: 50px; text-align: center; background-color: #737373;\">3</td>\n            </tr>\n            <tr>\n                <td style=\"width: 50px; height: 50px; text-align: center; background-color: #8c8c8c;\">4</td>\n                <td style=\"width: 50px; height: 50px; text-align: center; background-color: #a6a6a6;\">5</td>\n                <td style=\"width: 50px; height: 50px; text-align: center; background-color: #bfbfbf;\">6</td>\n            </tr>\n            <tr>\n                <td style=\"width: 50px; height: 50px; text-align: center; background-color: #d9d9d9;\">7</td>\n                <td style=\"width: 50px; height: 50px; text-align: center; background-color: ;\">0</td>\n                <td style=\"width: 50px; height: 50px; text-align: center; background-color: #f2f2f2;\">8</td>\n            </tr>\n        </table>\n        "
          }
        },
        "cf43db38ee54459bb268bae539504ac8": {
          "model_module": "@jupyter-widgets/base",
          "model_name": "LayoutModel",
          "model_module_version": "1.2.0",
          "state": {
            "_model_module": "@jupyter-widgets/base",
            "_model_module_version": "1.2.0",
            "_model_name": "LayoutModel",
            "_view_count": null,
            "_view_module": "@jupyter-widgets/base",
            "_view_module_version": "1.2.0",
            "_view_name": "LayoutView",
            "align_content": null,
            "align_items": null,
            "align_self": null,
            "border": null,
            "bottom": null,
            "display": null,
            "flex": null,
            "flex_flow": null,
            "grid_area": null,
            "grid_auto_columns": null,
            "grid_auto_flow": null,
            "grid_auto_rows": null,
            "grid_column": null,
            "grid_gap": null,
            "grid_row": null,
            "grid_template_areas": null,
            "grid_template_columns": null,
            "grid_template_rows": null,
            "height": null,
            "justify_content": null,
            "justify_items": null,
            "left": null,
            "margin": null,
            "max_height": null,
            "max_width": null,
            "min_height": null,
            "min_width": null,
            "object_fit": null,
            "object_position": null,
            "order": null,
            "overflow": null,
            "overflow_x": null,
            "overflow_y": null,
            "padding": null,
            "right": null,
            "top": null,
            "visibility": null,
            "width": null
          }
        },
        "1f2ce54a96e041bbb139acd6a3a5a0d2": {
          "model_module": "@jupyter-widgets/controls",
          "model_name": "DescriptionStyleModel",
          "model_module_version": "1.5.0",
          "state": {
            "_model_module": "@jupyter-widgets/controls",
            "_model_module_version": "1.5.0",
            "_model_name": "DescriptionStyleModel",
            "_view_count": null,
            "_view_module": "@jupyter-widgets/base",
            "_view_module_version": "1.2.0",
            "_view_name": "StyleView",
            "description_width": ""
          }
        },
        "467195ee7e934396ad8c10c5850521e8": {
          "model_module": "@jupyter-widgets/controls",
          "model_name": "HTMLModel",
          "model_module_version": "1.5.0",
          "state": {
            "_dom_classes": [],
            "_model_module": "@jupyter-widgets/controls",
            "_model_module_version": "1.5.0",
            "_model_name": "HTMLModel",
            "_view_count": null,
            "_view_module": "@jupyter-widgets/controls",
            "_view_module_version": "1.5.0",
            "_view_name": "HTMLView",
            "description": "",
            "description_tooltip": null,
            "layout": "IPY_MODEL_531c745f9a85482599a28cc9789d3fe4",
            "placeholder": "​",
            "style": "IPY_MODEL_590a7a7dd15b4f6198f74a9a8343767d",
            "value": "\n        <table style=\"border-collapse: collapse; border: 2px solid black; margin: auto;\">\n            <tr>\n                <td style=\"width: 50px; height: 50px; text-align: center; background-color: #404040;\">1</td>\n                <td style=\"width: 50px; height: 50px; text-align: center; background-color: #595959;\">2</td>\n                <td style=\"width: 50px; height: 50px; text-align: center; background-color: #737373;\">3</td>\n            </tr>\n            <tr>\n                <td style=\"width: 50px; height: 50px; text-align: center; background-color: #8c8c8c;\">4</td>\n                <td style=\"width: 50px; height: 50px; text-align: center; background-color: #a6a6a6;\">5</td>\n                <td style=\"width: 50px; height: 50px; text-align: center; background-color: #bfbfbf;\">6</td>\n            </tr>\n            <tr>\n                <td style=\"width: 50px; height: 50px; text-align: center; background-color: #d9d9d9;\">7</td>\n                <td style=\"width: 50px; height: 50px; text-align: center; background-color: #f2f2f2;\">8</td>\n                <td style=\"width: 50px; height: 50px; text-align: center; background-color: ;\">0</td>\n            </tr>\n        </table>\n        "
          }
        },
        "531c745f9a85482599a28cc9789d3fe4": {
          "model_module": "@jupyter-widgets/base",
          "model_name": "LayoutModel",
          "model_module_version": "1.2.0",
          "state": {
            "_model_module": "@jupyter-widgets/base",
            "_model_module_version": "1.2.0",
            "_model_name": "LayoutModel",
            "_view_count": null,
            "_view_module": "@jupyter-widgets/base",
            "_view_module_version": "1.2.0",
            "_view_name": "LayoutView",
            "align_content": null,
            "align_items": null,
            "align_self": null,
            "border": null,
            "bottom": null,
            "display": null,
            "flex": null,
            "flex_flow": null,
            "grid_area": null,
            "grid_auto_columns": null,
            "grid_auto_flow": null,
            "grid_auto_rows": null,
            "grid_column": null,
            "grid_gap": null,
            "grid_row": null,
            "grid_template_areas": null,
            "grid_template_columns": null,
            "grid_template_rows": null,
            "height": null,
            "justify_content": null,
            "justify_items": null,
            "left": null,
            "margin": null,
            "max_height": null,
            "max_width": null,
            "min_height": null,
            "min_width": null,
            "object_fit": null,
            "object_position": null,
            "order": null,
            "overflow": null,
            "overflow_x": null,
            "overflow_y": null,
            "padding": null,
            "right": null,
            "top": null,
            "visibility": null,
            "width": null
          }
        },
        "590a7a7dd15b4f6198f74a9a8343767d": {
          "model_module": "@jupyter-widgets/controls",
          "model_name": "DescriptionStyleModel",
          "model_module_version": "1.5.0",
          "state": {
            "_model_module": "@jupyter-widgets/controls",
            "_model_module_version": "1.5.0",
            "_model_name": "DescriptionStyleModel",
            "_view_count": null,
            "_view_module": "@jupyter-widgets/base",
            "_view_module_version": "1.2.0",
            "_view_name": "StyleView",
            "description_width": ""
          }
        }
      }
    }
  },
  "cells": [
    {
      "cell_type": "markdown",
      "metadata": {
        "id": "view-in-github",
        "colab_type": "text"
      },
      "source": [
        "<a href=\"https://colab.research.google.com/github/cristinapopescu19/Projects/blob/AI/Proiect_lab_5.ipynb\" target=\"_parent\"><img src=\"https://colab.research.google.com/assets/colab-badge.svg\" alt=\"Open In Colab\"/></a>"
      ]
    },
    {
      "cell_type": "code",
      "source": [
        "import numpy as np\n",
        "\n",
        "def succ(s):\n",
        "    succesorii = [] # lista cu succesorii\n",
        "    for i in range(9):\n",
        "        for j in range(9):\n",
        "            if s[i][j] == 0: # daca se gaseste o celula cu valoarea 0\n",
        "                for k in range(1, 10): # se incearca valorile de la 1 la 9 pentru a completa celula\n",
        "                    new_s = np.copy(s) # se creeaza o noua matrice cu aceleasi valori ca s\n",
        "                    new_s[i][j] = k # se completeaza celula cu valoarea k\n",
        "                    if valid_sudoku(new_s): # se verifica daca noua matrice este valida si daca da, se adauga in lista de succesori\n",
        "                        succesorii.append(new_s)\n",
        "    return succesorii # daca nu s-au gasit celule cu valoarea 0, se returneaza lista goala, nu mai putem genera niciun succesor\n",
        "\n",
        "    return True\n",
        "\n",
        "def valid(s):\n",
        "    for i in range(9):\n",
        "        for j in range(9):\n",
        "            if s[i][j] == 0:\n",
        "                continue\n",
        "            for k in range(9):\n",
        "                if k != j and s[i][k] == s[i][j]:\n",
        "                    return False\n",
        "                if k != i and s[k][j] == s[i][j]:\n",
        "                    return False\n",
        "            for m in range(i//3*3, i//3*3+3):\n",
        "                for n in range(j//3*3, j//3*3+3):\n",
        "                    if m != i and n != j and s[m][n] == s[i][j]:\n",
        "                        return False\n",
        "    return True\n",
        "\n",
        "\n",
        "def rezolva_s(s, algoritm):\n",
        "    if not valid(s):\n",
        "        return None\n",
        "\n",
        "    if algoritm == \"DFS\":\n",
        "       graph_dfs = {} # adauga aceasta linie\n",
        "    def dfs(graph, start, visited=None):\n",
        "        if visited is None:\n",
        "            visited = set()\n",
        "        stack=[start]\n",
        "        visited.add(start)\n",
        "\n",
        "        while stack:\n",
        "            nod_curent = stack.pop()\n",
        "            if final(nod_curent):\n",
        "                return nod_curent\n",
        "            succesorii = succ(nod_curent)\n",
        "            for succesor in succesorii:\n",
        "                if succesor not in visited:\n",
        "                    visited.add(succesor)\n",
        "                    stack.append(succesor)\n",
        "                    graph_dfs[tuple(map(tuple, nod_curent))].append(tuple(map(tuple, succesor))) # inlocuieste graph cu graph_dfs\n",
        "\n",
        "\n",
        "def final(s):\n",
        "    if not valid(s):\n",
        "        return False\n",
        "    for i in range(9): # parcurgem toate randurile\n",
        "        for j in range(9): # parcurgem toate coloanele\n",
        "            if s[i][j] == 0: # daca gasim o celula cu valoarea 0, intoarcem False\n",
        "                return False\n",
        "    return True # daca nu am gasit nicio celula cu valoarea 0, intoarcem True\n",
        "\n",
        "\n",
        "s = np.array([[5,0,7,2,0,0,0,9,0],\n",
        "                   [0,0,6,0,3,0,7,0,1],\n",
        "                   [4,0,0,0,0,0,0,6,0],\n",
        "                   [1,0,0,4,9,0,0,0,7],\n",
        "                   [0,0,0,5,0,8,0,0,0],\n",
        "                   [8,0,0,0,2,7,0,0,5],\n",
        "                   [0,7,0,0,0,0,0,0,9],\n",
        "                   [2,0,9,0,8,0,6,0,0],\n",
        "                   [0,4,0,0,0,9,3,0,8]])\n",
        "\n",
        "rezultat = rezolva_s(s, \"DFS\")\n",
        "print(rezultat)\n",
        "\n",
        "\n",
        "\n",
        "\n",
        "\n"
      ],
      "metadata": {
        "colab": {
          "base_uri": "https://localhost:8080/"
        },
        "id": "o4kn0EiBEvj6",
        "outputId": "c1c4d0a6-afe1-4a73-8487-432ec3cefb3a"
      },
      "execution_count": null,
      "outputs": [
        {
          "output_type": "stream",
          "name": "stdout",
          "text": [
            "None\n"
          ]
        }
      ]
    },
    {
      "cell_type": "markdown",
      "source": [
        "8-puzzle"
      ],
      "metadata": {
        "id": "0NLmCL2XkjQd"
      }
    },
    {
      "cell_type": "code",
      "source": [
        "from queue import PriorityQueue\n",
        "\n",
        "# h1 - numarul de piese care nu sunt la locul lor\n",
        "def h1(state):\n",
        "    count = 0\n",
        "    for i in range(len(state)): #for parcurge numerele de la 0 până la len(stare) - 1\n",
        "        if state[i] != i:\n",
        "            count += 1\n",
        "    return count #Funcția h1 returnează valoarea stocată în variabila count\n",
        "\n",
        "# h2 - suma distantelor Manhattan pentru fiecare piesa\n",
        "def h2(state):\n",
        "    dist = 0\n",
        "    for i in range(len(state)):\n",
        "        if state[i] != i:\n",
        "            x1, y1 = divmod(i, 3) #Se calculează coordonatele x și y ale poziției actuale a elementului\n",
        "            x2, y2 = divmod(state[i], 3) #Se calculează coordonatele x și y ale poziției la care ar trebui să fie elementul\n",
        "            dist += abs(x1 - x2) + abs(y1 - y2) #se calculeaza suma diferențelor absolute între coordonatele x și y ale pozitiei curente și celei țintă\n",
        "    return dist\n",
        "\n",
        "def expand(state):\n",
        "# generează toate stările 'child' valide pentru starea dată. Se găsește indicele poziției elementului 0\n",
        "#(reprezentând spațiul gol),\n",
        "#iar pentru fiecare index valid al unei mișcări, se face o copie a stării și se realizează respectiva mutare.\n",
        "    children = []\n",
        "    zero = state.index(0) #indexul pozitiei spatiului gol e determinat cu functia index()\n",
        "    if zero not in [0, 1, 2]: # mutare sus, iar dacă elementul 0 nu se află pe prima linie, se executa următoarea instrucțiune.\n",
        "        child = list(state) #dacă spațiul gol poate fi mutat în sus, se creează o copie a stării curente a jocului, reprezentată de lista 'child'.\n",
        "        child[zero], child[zero - 3] = child[zero - 3], child[zero] #elementele de pe poziția libera și de pe poziția de trei pătrățele mai sus sunt interschimbate\n",
        "        children.append(tuple(child)) #starea nouă a jocului este adăugată în lista 'children' ca tuplu\n",
        "\n",
        "    if zero not in [0, 3, 6]: # mutare stanga, verifică dacă spațiul gol poate fi mutat spre stânga și, dacă este posibil, face această mutare.\n",
        "        child = list(state)\n",
        "        child[zero], child[zero - 1] = child[zero - 1], child[zero] #elementele de pe poziția spațiului gol și de pe poziția din stânga sa sunt schimbate între ele\n",
        "        children.append(tuple(child)) #starea nouă a jocului este adăugată în lista 'children' ca tuplu\n",
        "\n",
        "    if zero not in [6, 7, 8]: # mutare jos, dacă spațiul gol se află deja în ultimele trei rânduri ale tablei, atunci nu poate fi mutat în jos.\n",
        "        child = list(state)\n",
        "        child[zero], child[zero + 3] = child[zero + 3], child[zero] #elementele de pe poziția spațiului gol și de pe poziția de sub acesta sunt interschimbate\n",
        "        children.append(tuple(child)) #starea nouă a jocului este adăugată în lista 'children' ca tuplu\n",
        "\n",
        "    if zero not in [2, 5, 8]: # mutare dreapta, dacă spațiul gol se află deja în ultimele trei coloane ale tablei, atunci nu poate fi mutat în dreapta.\n",
        "        child = list(state)\n",
        "        child[zero], child[zero + 1] = child[zero + 1], child[zero] #elementele de pe poziția spațiului gol și de pe poziția din dreapta acestuia sunt interschimbate\n",
        "        children.append(tuple(child)) #starea nouă a jocului este adăugată în lista 'children' ca tuplu\n",
        "    return children\n",
        "\n",
        "def solve_puzzle(start, goal, heuristic):\n",
        "    if start == goal: #verifică dacă starea de pornire este deja egală cu starea scop. În acest caz, returneaza o listă goală.\n",
        "        return []\n",
        "    if heuristic == 'h1': #verifică ce euristică a fost specificată\n",
        "        f = h1\n",
        "    elif heuristic == 'h2':\n",
        "        f = h2\n",
        "    frontier = PriorityQueue() #Frontiera este o coadă de priorități care va fi utilizată pentru a menține toate stările care încă nu au fost explorate.\n",
        "    frontier.put((0, [start], 0)) # initializare cost = 0\n",
        "    explored = set() #set care conține toate stările deja explorate\n",
        "    while frontier: #cat timp există elemente în frontieră\n",
        "        _, path, cost = frontier.get() # extrage nodul cu cel mai mic cost, descompune tuplul returnat de 'get' al frontierei\n",
        "        state = path[-1] #setează variabila \"state\" să fie ultima stare din lista \"path\"\n",
        "        if state == goal: #daca starea curenta este starea scop, returneaza lista de stări (path) prin care am trecut\n",
        "            return path\n",
        "        explored.add(state)\n",
        "        for child in expand(state): # pentru fiecare 'child' nou generat, verifică dacă acesta nu se află deja în setul de explorate.\n",
        "            if child not in explored: #daca nu,\n",
        "                new_path = path + [child] # creeaza o nouă cale care include acest copil și o adauga la coada de priorități.\n",
        "                new_cost = cost + 1\n",
        "                frontier.put((new_cost, new_path, new_cost)) # adaugă nodul în coada + costul său total\n",
        "    return None\n",
        "\n",
        "def bfs(start, goal):\n",
        "    if start == goal:\n",
        "        return []\n",
        "    frontier = [[start]] #inițializarea listei 'frontier' cu starea inițială sub formă de listă de liste, unde fiecare listă reprezintă o cale posibilă\n",
        "    explored = set() #inițializarea 'explored' cu starea inițială\n",
        "    while frontier:\n",
        "        path = frontier.pop(0) #extrage prima cale posibilă din lista 'frontier' și o atribuie variabilei 'path'\n",
        "        state = path[-1] #extrage ultima stare din calea curentă și o atribuim variabilei 'state'\n",
        "        if state == goal: #dacă starea curentă este identică cu starea scop,\n",
        "            return path #returneaza calea curentă\n",
        "        explored.add(state) #adauga starea curentă în 'explored'\n",
        "        for child in expand(state): #trece prin toate stările copil posibile pentru starea curentă\n",
        "            if child not in explored: #verifică dacă starea copil nu a fost explorată încă\n",
        "                new_path = path + [child] #adauga starea copil în calea curentă pentru a forma o nouă cale\n",
        "                frontier.append(new_path) #adăugăm calea posibilă nou formată în 'frontier'\n",
        "    return None\n",
        "\n",
        "start = (1, 3, 2, 4, 5, 6, 8, 7, 0)\n",
        "goal = (1, 2, 3, 4, 5, 6, 7, 8, 0)\n",
        "\n",
        "v1 = solve_puzzle(start, goal, 'h1')\n",
        "v2 = solve_puzzle(start, goal, 'h2')\n",
        "v3 = bfs(start, goal)\n",
        "\n",
        "print(v1)\n",
        "print(v2)\n",
        "print(v3)\n",
        "\n",
        "\n"
      ],
      "metadata": {
        "colab": {
          "base_uri": "https://localhost:8080/"
        },
        "id": "d3rLnGUWCdZF",
        "outputId": "167d5dfd-0ed7-4c50-b5d1-56c5b68ebb6c"
      },
      "execution_count": null,
      "outputs": [
        {
          "output_type": "stream",
          "name": "stdout",
          "text": [
            "[(1, 3, 2, 4, 5, 6, 8, 7, 0), (1, 3, 2, 4, 5, 0, 8, 7, 6), (1, 3, 0, 4, 5, 2, 8, 7, 6), (1, 0, 3, 4, 5, 2, 8, 7, 6), (0, 1, 3, 4, 5, 2, 8, 7, 6), (4, 1, 3, 0, 5, 2, 8, 7, 6), (4, 1, 3, 5, 0, 2, 8, 7, 6), (4, 1, 3, 5, 7, 2, 8, 0, 6), (4, 1, 3, 5, 7, 2, 0, 8, 6), (4, 1, 3, 0, 7, 2, 5, 8, 6), (4, 1, 3, 7, 0, 2, 5, 8, 6), (4, 1, 3, 7, 2, 0, 5, 8, 6), (4, 1, 3, 7, 2, 6, 5, 8, 0), (4, 1, 3, 7, 2, 6, 5, 0, 8), (4, 1, 3, 7, 2, 6, 0, 5, 8), (4, 1, 3, 0, 2, 6, 7, 5, 8), (0, 1, 3, 4, 2, 6, 7, 5, 8), (1, 0, 3, 4, 2, 6, 7, 5, 8), (1, 2, 3, 4, 0, 6, 7, 5, 8), (1, 2, 3, 4, 5, 6, 7, 0, 8), (1, 2, 3, 4, 5, 6, 7, 8, 0)]\n",
            "[(1, 3, 2, 4, 5, 6, 8, 7, 0), (1, 3, 2, 4, 5, 0, 8, 7, 6), (1, 3, 0, 4, 5, 2, 8, 7, 6), (1, 0, 3, 4, 5, 2, 8, 7, 6), (0, 1, 3, 4, 5, 2, 8, 7, 6), (4, 1, 3, 0, 5, 2, 8, 7, 6), (4, 1, 3, 5, 0, 2, 8, 7, 6), (4, 1, 3, 5, 7, 2, 8, 0, 6), (4, 1, 3, 5, 7, 2, 0, 8, 6), (4, 1, 3, 0, 7, 2, 5, 8, 6), (4, 1, 3, 7, 0, 2, 5, 8, 6), (4, 1, 3, 7, 2, 0, 5, 8, 6), (4, 1, 3, 7, 2, 6, 5, 8, 0), (4, 1, 3, 7, 2, 6, 5, 0, 8), (4, 1, 3, 7, 2, 6, 0, 5, 8), (4, 1, 3, 0, 2, 6, 7, 5, 8), (0, 1, 3, 4, 2, 6, 7, 5, 8), (1, 0, 3, 4, 2, 6, 7, 5, 8), (1, 2, 3, 4, 0, 6, 7, 5, 8), (1, 2, 3, 4, 5, 6, 7, 0, 8), (1, 2, 3, 4, 5, 6, 7, 8, 0)]\n",
            "[(1, 3, 2, 4, 5, 6, 8, 7, 0), (1, 3, 2, 4, 5, 0, 8, 7, 6), (1, 3, 0, 4, 5, 2, 8, 7, 6), (1, 0, 3, 4, 5, 2, 8, 7, 6), (0, 1, 3, 4, 5, 2, 8, 7, 6), (4, 1, 3, 0, 5, 2, 8, 7, 6), (4, 1, 3, 5, 0, 2, 8, 7, 6), (4, 1, 3, 5, 7, 2, 8, 0, 6), (4, 1, 3, 5, 7, 2, 0, 8, 6), (4, 1, 3, 0, 7, 2, 5, 8, 6), (4, 1, 3, 7, 0, 2, 5, 8, 6), (4, 1, 3, 7, 2, 0, 5, 8, 6), (4, 1, 3, 7, 2, 6, 5, 8, 0), (4, 1, 3, 7, 2, 6, 5, 0, 8), (4, 1, 3, 7, 2, 6, 0, 5, 8), (4, 1, 3, 0, 2, 6, 7, 5, 8), (0, 1, 3, 4, 2, 6, 7, 5, 8), (1, 0, 3, 4, 2, 6, 7, 5, 8), (1, 2, 3, 4, 0, 6, 7, 5, 8), (1, 2, 3, 4, 5, 6, 7, 0, 8), (1, 2, 3, 4, 5, 6, 7, 8, 0)]\n"
          ]
        }
      ]
    },
    {
      "cell_type": "code",
      "source": [
        "s1 = (1, 3, 2, 4, 5, 6, 8, 7, 0)\n",
        "s2 = (1, 3, 2, 4, 5, 0, 8, 7, 6)\n",
        "s3 = (1, 3, 0, 4, 5, 2, 8, 7, 6)\n",
        "s4 = (1, 0, 3, 4, 5, 2, 8, 7, 6)\n",
        "s5 = (0, 1, 3, 4, 5, 2, 8, 7, 6)\n",
        "s6 = (4, 1, 3, 0, 5, 2, 8, 7, 6)\n",
        "s7 = (4, 1, 3, 5, 0, 2, 8, 7, 6)\n",
        "s8 = (4, 1, 3, 5, 7, 2, 8, 0, 6)\n",
        "s9 = (4, 1, 3, 5, 7, 2, 0, 8, 6)\n",
        "s10 = (4, 1, 3, 0, 7, 2, 5, 8, 6)\n",
        "s11 = (4, 1, 3, 7, 0, 2, 5, 8, 6)\n",
        "s12 = (4, 1, 3, 7, 2, 0, 5, 8, 6)\n",
        "s13 = (4, 1, 3, 7, 2, 6, 5, 8, 0)\n",
        "s14 = (4, 1, 3, 7, 2, 6, 5, 0, 8)\n",
        "s15 = (4, 1, 3, 7, 2, 6, 0, 5, 8)\n",
        "s16 = (4, 1, 3, 0, 2, 6, 7, 5, 8)\n",
        "s17 = (0, 1, 3, 4, 2, 6, 7, 5, 8)\n",
        "s18 = (1, 0, 3, 4, 2, 6, 7, 5, 8)\n",
        "s19 = (1, 2, 3, 4, 0, 6, 7, 5, 8)\n",
        "s20 = (1, 2, 3, 4, 5, 6, 7, 0, 8)\n",
        "s21 = (1, 2, 3, 4, 5, 6, 7, 8, 0)\n",
        "\n",
        "color_dict = {\n",
        "    1: '#404040',\n",
        "    2: '#595959',\n",
        "    3: '#737373',\n",
        "    4: '#8c8c8c',\n",
        "    5: '#a6a6a6',\n",
        "    6: '#bfbfbf',\n",
        "    7: '#d9d9d9',\n",
        "    8: '#f2f2f2',\n",
        "    0: ''\n",
        "}\n",
        "\n",
        "for i in range(1, 22):\n",
        "    s = f\"s{i}\"\n",
        "    table = widgets.HTML(\n",
        "        value=f'''\n",
        "        <table style=\"border-collapse: collapse; border: 2px solid black; margin: auto;\">\n",
        "            <tr>\n",
        "                <td style=\"width: 50px; height: 50px; text-align: center; background-color: {color_dict[eval(s)[0]]};\">{eval(s)[0]}</td>\n",
        "                <td style=\"width: 50px; height: 50px; text-align: center; background-color: {color_dict[eval(s)[1]]};\">{eval(s)[1]}</td>\n",
        "                <td style=\"width: 50px; height: 50px; text-align: center; background-color: {color_dict[eval(s)[2]]};\">{eval(s)[2]}</td>\n",
        "            </tr>\n",
        "            <tr>\n",
        "                <td style=\"width: 50px; height: 50px; text-align: center; background-color: {color_dict[eval(s)[3]]};\">{eval(s)[3]}</td>\n",
        "                <td style=\"width: 50px; height: 50px; text-align: center; background-color: {color_dict[eval(s)[4]]};\">{eval(s)[4]}</td>\n",
        "                <td style=\"width: 50px; height: 50px; text-align: center; background-color: {color_dict[eval(s)[5]]};\">{eval(s)[5]}</td>\n",
        "            </tr>\n",
        "            <tr>\n",
        "                <td style=\"width: 50px; height: 50px; text-align: center; background-color: {color_dict[eval(s)[6]]};\">{eval(s)[6]}</td>\n",
        "                <td style=\"width: 50px; height: 50px; text-align: center; background-color: {color_dict[eval(s)[7]]};\">{eval(s)[7]}</td>\n",
        "                <td style=\"width: 50px; height: 50px; text-align: center; background-color: {color_dict[eval(s)[8]]};\">{eval(s)[8]}</td>\n",
        "            </tr>\n",
        "        </table>\n",
        "        ''',\n",
        "    )\n",
        "    display(table)\n",
        "    print('')\n",
        "    print('')\n"
      ],
      "metadata": {
        "colab": {
          "base_uri": "https://localhost:8080/",
          "height": 1000,
          "referenced_widgets": [
            "7f6285e7d23342a88b3b95ebd61b63be",
            "743d41da3d854bddb458dadc07e14fba",
            "738792db5c7d4a58b86bebf8c951040f",
            "4ff54c95e6a845beb21cc509d548f28b",
            "5a5d36f09451423299f25bba21385756",
            "2b4bd92e24f04e7a9c8e7b8298049ead",
            "b664875a63554a4189d7a47fe2d9115f",
            "1b9dae36e120446b8b4da74beef392e0",
            "b3ee024c0cde4ce49fefbc9e3d1ed1e3",
            "0c0f640a316e4631a0cb8cff59959130",
            "f697f1b271d0479fa5c7401044b67498",
            "6e41d5a13cef420a9d3757ec1884f476",
            "bdbf06bda9e247c3be2485bfbc95dde4",
            "f7d94002478346b08427fc3c72647a96",
            "aa2e3e57b535487e9599327802a94546",
            "03c3a909a28b409fa0c9ed7da879b048",
            "63ac3dd961b249aa807bbeb961487b89",
            "fbc5fe35c626434898fd1ef67c47e1e5",
            "3944d789ab2948c0b80c97840af038ba",
            "64c722883b024239b47fa55a650eae5f",
            "2d996103ea6448f7b26e05e567ae52b4",
            "e089276436dd4c1297875fc027d1f300",
            "bcb6af4a4666458f85c68a2b5deb6172",
            "f7ef782259dd4ba4b7e5a5e166bedfc2",
            "07c7340f70fb455ab8c0cd6144e1b803",
            "dcb33608c40f4b13bda9fe27e40ef304",
            "ce2d04147acf4d78a45824aa607a04d7",
            "cd74cea4d7324f20a50e811d0774b871",
            "3475f78ad73d4b019acd75c88bc9c2b9",
            "1615b68753914e26bcfbce906db04540",
            "71902d75590748be919f66e844e93bab",
            "85c01ccb190448648795193530d70c3f",
            "701df8b1067247da8ebd1c58eb727c71",
            "ec50bebec9b3453b960b837758abd6e2",
            "738693e338df47a2b834893dfca1a40f",
            "cd9f043653524fedb96ba74994cba3dd",
            "476f45b86241408196ef38fe800e4a47",
            "78efa19c8e5a496b889a872b8b4a853b",
            "058413e4feb44831a2582cb409b14edc",
            "d855e6153190413a8bca050ee0f34704",
            "9bc26ee2c78644d7b1a10014b6387f2a",
            "72b174f583974d7ead1428a8eb01b8ad",
            "0caed3ed22fc46918e919477f03427a2",
            "77654a7686e64c75b48865d3b6b4d460",
            "8c79262278984af9bc01572f398562bb",
            "b255c3ec1e5a401abe3afcb1753e379b",
            "82fc34f276f345508011ef963a4dd0a2",
            "123501580da64422a3b2f87445ee2850",
            "5aa2c25139ec4d9b8905ab085982bbe0",
            "03a00c2ab48245dd8cb728f26d71c8fa",
            "4ac9e97c9966482992bd24aa4e6e8b4f",
            "f45d980a10384c90aea30dcb1ecaefaf",
            "25410e9a46f840ec8ecc89b4262152aa",
            "2326b1ed8e6c4855b9a489c8f993ff31",
            "adadeef026104832b80997ec81044d99",
            "ff78dd007a8142c8b824f013b5d741ea",
            "f429c385cb4844909e27ea752cdcbd10",
            "a45f9a9e6ec14afe82327d1404e3b4ad",
            "cf43db38ee54459bb268bae539504ac8",
            "1f2ce54a96e041bbb139acd6a3a5a0d2",
            "467195ee7e934396ad8c10c5850521e8",
            "531c745f9a85482599a28cc9789d3fe4",
            "590a7a7dd15b4f6198f74a9a8343767d"
          ]
        },
        "id": "BWI6oASR0AOK",
        "outputId": "9b49fbfb-0f90-451c-8cbf-747166f52322"
      },
      "execution_count": null,
      "outputs": [
        {
          "output_type": "display_data",
          "data": {
            "text/plain": [
              "HTML(value='\\n        <table style=\"border-collapse: collapse; border: 2px solid black; margin: auto;\">\\n     …"
            ],
            "application/vnd.jupyter.widget-view+json": {
              "version_major": 2,
              "version_minor": 0,
              "model_id": "7f6285e7d23342a88b3b95ebd61b63be"
            }
          },
          "metadata": {}
        },
        {
          "output_type": "stream",
          "name": "stdout",
          "text": [
            "\n",
            "\n"
          ]
        },
        {
          "output_type": "display_data",
          "data": {
            "text/plain": [
              "HTML(value='\\n        <table style=\"border-collapse: collapse; border: 2px solid black; margin: auto;\">\\n     …"
            ],
            "application/vnd.jupyter.widget-view+json": {
              "version_major": 2,
              "version_minor": 0,
              "model_id": "4ff54c95e6a845beb21cc509d548f28b"
            }
          },
          "metadata": {}
        },
        {
          "output_type": "stream",
          "name": "stdout",
          "text": [
            "\n",
            "\n"
          ]
        },
        {
          "output_type": "display_data",
          "data": {
            "text/plain": [
              "HTML(value='\\n        <table style=\"border-collapse: collapse; border: 2px solid black; margin: auto;\">\\n     …"
            ],
            "application/vnd.jupyter.widget-view+json": {
              "version_major": 2,
              "version_minor": 0,
              "model_id": "b664875a63554a4189d7a47fe2d9115f"
            }
          },
          "metadata": {}
        },
        {
          "output_type": "stream",
          "name": "stdout",
          "text": [
            "\n",
            "\n"
          ]
        },
        {
          "output_type": "display_data",
          "data": {
            "text/plain": [
              "HTML(value='\\n        <table style=\"border-collapse: collapse; border: 2px solid black; margin: auto;\">\\n     …"
            ],
            "application/vnd.jupyter.widget-view+json": {
              "version_major": 2,
              "version_minor": 0,
              "model_id": "0c0f640a316e4631a0cb8cff59959130"
            }
          },
          "metadata": {}
        },
        {
          "output_type": "stream",
          "name": "stdout",
          "text": [
            "\n",
            "\n"
          ]
        },
        {
          "output_type": "display_data",
          "data": {
            "text/plain": [
              "HTML(value='\\n        <table style=\"border-collapse: collapse; border: 2px solid black; margin: auto;\">\\n     …"
            ],
            "application/vnd.jupyter.widget-view+json": {
              "version_major": 2,
              "version_minor": 0,
              "model_id": "bdbf06bda9e247c3be2485bfbc95dde4"
            }
          },
          "metadata": {}
        },
        {
          "output_type": "stream",
          "name": "stdout",
          "text": [
            "\n",
            "\n"
          ]
        },
        {
          "output_type": "display_data",
          "data": {
            "text/plain": [
              "HTML(value='\\n        <table style=\"border-collapse: collapse; border: 2px solid black; margin: auto;\">\\n     …"
            ],
            "application/vnd.jupyter.widget-view+json": {
              "version_major": 2,
              "version_minor": 0,
              "model_id": "03c3a909a28b409fa0c9ed7da879b048"
            }
          },
          "metadata": {}
        },
        {
          "output_type": "stream",
          "name": "stdout",
          "text": [
            "\n",
            "\n"
          ]
        },
        {
          "output_type": "display_data",
          "data": {
            "text/plain": [
              "HTML(value='\\n        <table style=\"border-collapse: collapse; border: 2px solid black; margin: auto;\">\\n     …"
            ],
            "application/vnd.jupyter.widget-view+json": {
              "version_major": 2,
              "version_minor": 0,
              "model_id": "3944d789ab2948c0b80c97840af038ba"
            }
          },
          "metadata": {}
        },
        {
          "output_type": "stream",
          "name": "stdout",
          "text": [
            "\n",
            "\n"
          ]
        },
        {
          "output_type": "display_data",
          "data": {
            "text/plain": [
              "HTML(value='\\n        <table style=\"border-collapse: collapse; border: 2px solid black; margin: auto;\">\\n     …"
            ],
            "application/vnd.jupyter.widget-view+json": {
              "version_major": 2,
              "version_minor": 0,
              "model_id": "e089276436dd4c1297875fc027d1f300"
            }
          },
          "metadata": {}
        },
        {
          "output_type": "stream",
          "name": "stdout",
          "text": [
            "\n",
            "\n"
          ]
        },
        {
          "output_type": "display_data",
          "data": {
            "text/plain": [
              "HTML(value='\\n        <table style=\"border-collapse: collapse; border: 2px solid black; margin: auto;\">\\n     …"
            ],
            "application/vnd.jupyter.widget-view+json": {
              "version_major": 2,
              "version_minor": 0,
              "model_id": "07c7340f70fb455ab8c0cd6144e1b803"
            }
          },
          "metadata": {}
        },
        {
          "output_type": "stream",
          "name": "stdout",
          "text": [
            "\n",
            "\n"
          ]
        },
        {
          "output_type": "display_data",
          "data": {
            "text/plain": [
              "HTML(value='\\n        <table style=\"border-collapse: collapse; border: 2px solid black; margin: auto;\">\\n     …"
            ],
            "application/vnd.jupyter.widget-view+json": {
              "version_major": 2,
              "version_minor": 0,
              "model_id": "cd74cea4d7324f20a50e811d0774b871"
            }
          },
          "metadata": {}
        },
        {
          "output_type": "stream",
          "name": "stdout",
          "text": [
            "\n",
            "\n"
          ]
        },
        {
          "output_type": "display_data",
          "data": {
            "text/plain": [
              "HTML(value='\\n        <table style=\"border-collapse: collapse; border: 2px solid black; margin: auto;\">\\n     …"
            ],
            "application/vnd.jupyter.widget-view+json": {
              "version_major": 2,
              "version_minor": 0,
              "model_id": "71902d75590748be919f66e844e93bab"
            }
          },
          "metadata": {}
        },
        {
          "output_type": "stream",
          "name": "stdout",
          "text": [
            "\n",
            "\n"
          ]
        },
        {
          "output_type": "display_data",
          "data": {
            "text/plain": [
              "HTML(value='\\n        <table style=\"border-collapse: collapse; border: 2px solid black; margin: auto;\">\\n     …"
            ],
            "application/vnd.jupyter.widget-view+json": {
              "version_major": 2,
              "version_minor": 0,
              "model_id": "ec50bebec9b3453b960b837758abd6e2"
            }
          },
          "metadata": {}
        },
        {
          "output_type": "stream",
          "name": "stdout",
          "text": [
            "\n",
            "\n"
          ]
        },
        {
          "output_type": "display_data",
          "data": {
            "text/plain": [
              "HTML(value='\\n        <table style=\"border-collapse: collapse; border: 2px solid black; margin: auto;\">\\n     …"
            ],
            "application/vnd.jupyter.widget-view+json": {
              "version_major": 2,
              "version_minor": 0,
              "model_id": "476f45b86241408196ef38fe800e4a47"
            }
          },
          "metadata": {}
        },
        {
          "output_type": "stream",
          "name": "stdout",
          "text": [
            "\n",
            "\n"
          ]
        },
        {
          "output_type": "display_data",
          "data": {
            "text/plain": [
              "HTML(value='\\n        <table style=\"border-collapse: collapse; border: 2px solid black; margin: auto;\">\\n     …"
            ],
            "application/vnd.jupyter.widget-view+json": {
              "version_major": 2,
              "version_minor": 0,
              "model_id": "d855e6153190413a8bca050ee0f34704"
            }
          },
          "metadata": {}
        },
        {
          "output_type": "stream",
          "name": "stdout",
          "text": [
            "\n",
            "\n"
          ]
        },
        {
          "output_type": "display_data",
          "data": {
            "text/plain": [
              "HTML(value='\\n        <table style=\"border-collapse: collapse; border: 2px solid black; margin: auto;\">\\n     …"
            ],
            "application/vnd.jupyter.widget-view+json": {
              "version_major": 2,
              "version_minor": 0,
              "model_id": "0caed3ed22fc46918e919477f03427a2"
            }
          },
          "metadata": {}
        },
        {
          "output_type": "stream",
          "name": "stdout",
          "text": [
            "\n",
            "\n"
          ]
        },
        {
          "output_type": "display_data",
          "data": {
            "text/plain": [
              "HTML(value='\\n        <table style=\"border-collapse: collapse; border: 2px solid black; margin: auto;\">\\n     …"
            ],
            "application/vnd.jupyter.widget-view+json": {
              "version_major": 2,
              "version_minor": 0,
              "model_id": "b255c3ec1e5a401abe3afcb1753e379b"
            }
          },
          "metadata": {}
        },
        {
          "output_type": "stream",
          "name": "stdout",
          "text": [
            "\n",
            "\n"
          ]
        },
        {
          "output_type": "display_data",
          "data": {
            "text/plain": [
              "HTML(value='\\n        <table style=\"border-collapse: collapse; border: 2px solid black; margin: auto;\">\\n     …"
            ],
            "application/vnd.jupyter.widget-view+json": {
              "version_major": 2,
              "version_minor": 0,
              "model_id": "5aa2c25139ec4d9b8905ab085982bbe0"
            }
          },
          "metadata": {}
        },
        {
          "output_type": "stream",
          "name": "stdout",
          "text": [
            "\n",
            "\n"
          ]
        },
        {
          "output_type": "display_data",
          "data": {
            "text/plain": [
              "HTML(value='\\n        <table style=\"border-collapse: collapse; border: 2px solid black; margin: auto;\">\\n     …"
            ],
            "application/vnd.jupyter.widget-view+json": {
              "version_major": 2,
              "version_minor": 0,
              "model_id": "f45d980a10384c90aea30dcb1ecaefaf"
            }
          },
          "metadata": {}
        },
        {
          "output_type": "stream",
          "name": "stdout",
          "text": [
            "\n",
            "\n"
          ]
        },
        {
          "output_type": "display_data",
          "data": {
            "text/plain": [
              "HTML(value='\\n        <table style=\"border-collapse: collapse; border: 2px solid black; margin: auto;\">\\n     …"
            ],
            "application/vnd.jupyter.widget-view+json": {
              "version_major": 2,
              "version_minor": 0,
              "model_id": "adadeef026104832b80997ec81044d99"
            }
          },
          "metadata": {}
        },
        {
          "output_type": "stream",
          "name": "stdout",
          "text": [
            "\n",
            "\n"
          ]
        },
        {
          "output_type": "display_data",
          "data": {
            "text/plain": [
              "HTML(value='\\n        <table style=\"border-collapse: collapse; border: 2px solid black; margin: auto;\">\\n     …"
            ],
            "application/vnd.jupyter.widget-view+json": {
              "version_major": 2,
              "version_minor": 0,
              "model_id": "a45f9a9e6ec14afe82327d1404e3b4ad"
            }
          },
          "metadata": {}
        },
        {
          "output_type": "stream",
          "name": "stdout",
          "text": [
            "\n",
            "\n"
          ]
        },
        {
          "output_type": "display_data",
          "data": {
            "text/plain": [
              "HTML(value='\\n        <table style=\"border-collapse: collapse; border: 2px solid black; margin: auto;\">\\n     …"
            ],
            "application/vnd.jupyter.widget-view+json": {
              "version_major": 2,
              "version_minor": 0,
              "model_id": "467195ee7e934396ad8c10c5850521e8"
            }
          },
          "metadata": {}
        },
        {
          "output_type": "stream",
          "name": "stdout",
          "text": [
            "\n",
            "\n"
          ]
        }
      ]
    }
  ]
}